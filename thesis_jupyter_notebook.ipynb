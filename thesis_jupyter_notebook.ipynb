{
 "cells": [
  {
   "cell_type": "markdown",
   "metadata": {},
   "source": [
    "# Data analysis of the Zimbabwe global findex database 2017\n",
    "##### by Rujeko Musarurwa\n",
    "This database is a large dataset that contains 1000 individuals information with over 100 different variables of which I have chosen to focus on 10 relevant variables for my analysis. The aim of this exploration is to assess the data and any relationships that may exist between the different attributes with the main variable of interest being savings.\n",
    "The main feature in the dataset is the influence on savings by having a mobile money account.\n",
    "\n",
    "Logistic Regression should be used because the response variable is categorical that can only predict two possible outcomes of saved or did not save."
   ]
  },
  {
   "cell_type": "code",
   "execution_count": 188,
   "metadata": {},
   "outputs": [],
   "source": [
    "# import all packages and set plots to be embedded inline\n",
    "import numpy as np\n",
    "import pandas as pd\n",
    "import seaborn as sb\n",
    "import matplotlib.pyplot as plt\n",
    "%matplotlib inline"
   ]
  },
  {
   "cell_type": "code",
   "execution_count": 189,
   "metadata": {},
   "outputs": [
    {
     "data": {
      "text/plain": [
       "(1000, 11)"
      ]
     },
     "execution_count": 189,
     "metadata": {},
     "output_type": "execute_result"
    }
   ],
   "source": [
    "#load Zimbabwe dataset into dataframe called df\n",
    "df = pd.read_excel('thesis_dataset_zim_data.xls')\n",
    "df.shape"
   ]
  },
  {
   "cell_type": "code",
   "execution_count": 190,
   "metadata": {},
   "outputs": [
    {
     "data": {
      "text/html": [
       "<div>\n",
       "<style scoped>\n",
       "    .dataframe tbody tr th:only-of-type {\n",
       "        vertical-align: middle;\n",
       "    }\n",
       "\n",
       "    .dataframe tbody tr th {\n",
       "        vertical-align: top;\n",
       "    }\n",
       "\n",
       "    .dataframe thead th {\n",
       "        text-align: right;\n",
       "    }\n",
       "</style>\n",
       "<table border=\"1\" class=\"dataframe\">\n",
       "  <thead>\n",
       "    <tr style=\"text-align: right;\">\n",
       "      <th></th>\n",
       "      <th>Gallup World Poll identifier</th>\n",
       "      <th>Respondent is female</th>\n",
       "      <th>Respondent age</th>\n",
       "      <th>Respondent education level</th>\n",
       "      <th>Within-economy household income quintile</th>\n",
       "      <th>Respondent is in the workforce</th>\n",
       "      <th>Owns a mobile phone</th>\n",
       "      <th>Has a mobile money account</th>\n",
       "      <th>Saved in the past year</th>\n",
       "      <th>Saved in past 12 months: for farm/business purposes</th>\n",
       "      <th>Saved in past 12 months: for old age</th>\n",
       "    </tr>\n",
       "  </thead>\n",
       "  <tbody>\n",
       "    <tr>\n",
       "      <th>0</th>\n",
       "      <td>127909487</td>\n",
       "      <td>Male</td>\n",
       "      <td>39.0</td>\n",
       "      <td>secondary</td>\n",
       "      <td>Richest 20%</td>\n",
       "      <td>in workforce</td>\n",
       "      <td>yes</td>\n",
       "      <td>yes</td>\n",
       "      <td>0</td>\n",
       "      <td>no</td>\n",
       "      <td>no</td>\n",
       "    </tr>\n",
       "    <tr>\n",
       "      <th>1</th>\n",
       "      <td>144766923</td>\n",
       "      <td>Male</td>\n",
       "      <td>67.0</td>\n",
       "      <td>completed primary or less</td>\n",
       "      <td>Second 20%</td>\n",
       "      <td>out of workforce</td>\n",
       "      <td>no</td>\n",
       "      <td>0</td>\n",
       "      <td>yes</td>\n",
       "      <td>no</td>\n",
       "      <td>yes</td>\n",
       "    </tr>\n",
       "    <tr>\n",
       "      <th>2</th>\n",
       "      <td>164090858</td>\n",
       "      <td>Male</td>\n",
       "      <td>55.0</td>\n",
       "      <td>secondary</td>\n",
       "      <td>Middle 20%</td>\n",
       "      <td>out of workforce</td>\n",
       "      <td>yes</td>\n",
       "      <td>yes</td>\n",
       "      <td>yes</td>\n",
       "      <td>yes</td>\n",
       "      <td>no</td>\n",
       "    </tr>\n",
       "    <tr>\n",
       "      <th>3</th>\n",
       "      <td>182630524</td>\n",
       "      <td>Female</td>\n",
       "      <td>53.0</td>\n",
       "      <td>secondary</td>\n",
       "      <td>Poorest 20%</td>\n",
       "      <td>out of workforce</td>\n",
       "      <td>yes</td>\n",
       "      <td>0</td>\n",
       "      <td>yes</td>\n",
       "      <td>yes</td>\n",
       "      <td>no</td>\n",
       "    </tr>\n",
       "    <tr>\n",
       "      <th>4</th>\n",
       "      <td>178373653</td>\n",
       "      <td>Female</td>\n",
       "      <td>25.0</td>\n",
       "      <td>completed tertiary or more</td>\n",
       "      <td>Richest 20%</td>\n",
       "      <td>in workforce</td>\n",
       "      <td>yes</td>\n",
       "      <td>yes</td>\n",
       "      <td>yes</td>\n",
       "      <td>yes</td>\n",
       "      <td>no</td>\n",
       "    </tr>\n",
       "  </tbody>\n",
       "</table>\n",
       "</div>"
      ],
      "text/plain": [
       "   Gallup World Poll identifier Respondent is female  Respondent age  \\\n",
       "0                     127909487                 Male            39.0   \n",
       "1                     144766923                 Male            67.0   \n",
       "2                     164090858                 Male            55.0   \n",
       "3                     182630524               Female            53.0   \n",
       "4                     178373653               Female            25.0   \n",
       "\n",
       "   Respondent education level Within-economy household income quintile  \\\n",
       "0                   secondary                              Richest 20%   \n",
       "1   completed primary or less                               Second 20%   \n",
       "2                   secondary                               Middle 20%   \n",
       "3                   secondary                              Poorest 20%   \n",
       "4  completed tertiary or more                              Richest 20%   \n",
       "\n",
       "  Respondent is in the workforce Owns a mobile phone  \\\n",
       "0                   in workforce                 yes   \n",
       "1               out of workforce                  no   \n",
       "2               out of workforce                 yes   \n",
       "3               out of workforce                 yes   \n",
       "4                   in workforce                 yes   \n",
       "\n",
       "  Has a mobile money account Saved in the past year  \\\n",
       "0                        yes                      0   \n",
       "1                          0                    yes   \n",
       "2                        yes                    yes   \n",
       "3                          0                    yes   \n",
       "4                        yes                    yes   \n",
       "\n",
       "  Saved in past 12 months: for farm/business purposes  \\\n",
       "0                                                 no    \n",
       "1                                                 no    \n",
       "2                                                yes    \n",
       "3                                                yes    \n",
       "4                                                yes    \n",
       "\n",
       "  Saved in past 12 months: for old age  \n",
       "0                                   no  \n",
       "1                                  yes  \n",
       "2                                   no  \n",
       "3                                   no  \n",
       "4                                   no  "
      ]
     },
     "execution_count": 190,
     "metadata": {},
     "output_type": "execute_result"
    }
   ],
   "source": [
    "#check if data loaded correctly\n",
    "df.head()"
   ]
  },
  {
   "cell_type": "code",
   "execution_count": 191,
   "metadata": {},
   "outputs": [],
   "source": [
    "#replace the spaces between column names with underscore\n",
    "df.columns = df.columns.str.replace(' ', '_')"
   ]
  },
  {
   "cell_type": "code",
   "execution_count": 192,
   "metadata": {},
   "outputs": [
    {
     "data": {
      "text/html": [
       "<div>\n",
       "<style scoped>\n",
       "    .dataframe tbody tr th:only-of-type {\n",
       "        vertical-align: middle;\n",
       "    }\n",
       "\n",
       "    .dataframe tbody tr th {\n",
       "        vertical-align: top;\n",
       "    }\n",
       "\n",
       "    .dataframe thead th {\n",
       "        text-align: right;\n",
       "    }\n",
       "</style>\n",
       "<table border=\"1\" class=\"dataframe\">\n",
       "  <thead>\n",
       "    <tr style=\"text-align: right;\">\n",
       "      <th></th>\n",
       "      <th>Gallup_World_Poll_identifier</th>\n",
       "      <th>Respondent_is_female</th>\n",
       "      <th>Respondent_age</th>\n",
       "      <th>Respondent_education_level</th>\n",
       "      <th>Within-economy_household_income_quintile</th>\n",
       "      <th>Respondent_is_in_the_workforce</th>\n",
       "      <th>Owns_a_mobile_phone</th>\n",
       "      <th>Has_a_mobile_money_account</th>\n",
       "      <th>Saved_in_the_past_year</th>\n",
       "      <th>Saved_in_past_12_months:_for_farm/business_purposes</th>\n",
       "      <th>Saved_in_past_12_months:_for_old_age</th>\n",
       "    </tr>\n",
       "  </thead>\n",
       "  <tbody>\n",
       "    <tr>\n",
       "      <th>0</th>\n",
       "      <td>127909487</td>\n",
       "      <td>Male</td>\n",
       "      <td>39.0</td>\n",
       "      <td>secondary</td>\n",
       "      <td>Richest 20%</td>\n",
       "      <td>in workforce</td>\n",
       "      <td>yes</td>\n",
       "      <td>yes</td>\n",
       "      <td>0</td>\n",
       "      <td>no</td>\n",
       "      <td>no</td>\n",
       "    </tr>\n",
       "    <tr>\n",
       "      <th>1</th>\n",
       "      <td>144766923</td>\n",
       "      <td>Male</td>\n",
       "      <td>67.0</td>\n",
       "      <td>completed primary or less</td>\n",
       "      <td>Second 20%</td>\n",
       "      <td>out of workforce</td>\n",
       "      <td>no</td>\n",
       "      <td>0</td>\n",
       "      <td>yes</td>\n",
       "      <td>no</td>\n",
       "      <td>yes</td>\n",
       "    </tr>\n",
       "    <tr>\n",
       "      <th>2</th>\n",
       "      <td>164090858</td>\n",
       "      <td>Male</td>\n",
       "      <td>55.0</td>\n",
       "      <td>secondary</td>\n",
       "      <td>Middle 20%</td>\n",
       "      <td>out of workforce</td>\n",
       "      <td>yes</td>\n",
       "      <td>yes</td>\n",
       "      <td>yes</td>\n",
       "      <td>yes</td>\n",
       "      <td>no</td>\n",
       "    </tr>\n",
       "    <tr>\n",
       "      <th>3</th>\n",
       "      <td>182630524</td>\n",
       "      <td>Female</td>\n",
       "      <td>53.0</td>\n",
       "      <td>secondary</td>\n",
       "      <td>Poorest 20%</td>\n",
       "      <td>out of workforce</td>\n",
       "      <td>yes</td>\n",
       "      <td>0</td>\n",
       "      <td>yes</td>\n",
       "      <td>yes</td>\n",
       "      <td>no</td>\n",
       "    </tr>\n",
       "    <tr>\n",
       "      <th>4</th>\n",
       "      <td>178373653</td>\n",
       "      <td>Female</td>\n",
       "      <td>25.0</td>\n",
       "      <td>completed tertiary or more</td>\n",
       "      <td>Richest 20%</td>\n",
       "      <td>in workforce</td>\n",
       "      <td>yes</td>\n",
       "      <td>yes</td>\n",
       "      <td>yes</td>\n",
       "      <td>yes</td>\n",
       "      <td>no</td>\n",
       "    </tr>\n",
       "  </tbody>\n",
       "</table>\n",
       "</div>"
      ],
      "text/plain": [
       "   Gallup_World_Poll_identifier Respondent_is_female  Respondent_age  \\\n",
       "0                     127909487                 Male            39.0   \n",
       "1                     144766923                 Male            67.0   \n",
       "2                     164090858                 Male            55.0   \n",
       "3                     182630524               Female            53.0   \n",
       "4                     178373653               Female            25.0   \n",
       "\n",
       "   Respondent_education_level Within-economy_household_income_quintile  \\\n",
       "0                   secondary                              Richest 20%   \n",
       "1   completed primary or less                               Second 20%   \n",
       "2                   secondary                               Middle 20%   \n",
       "3                   secondary                              Poorest 20%   \n",
       "4  completed tertiary or more                              Richest 20%   \n",
       "\n",
       "  Respondent_is_in_the_workforce Owns_a_mobile_phone  \\\n",
       "0                   in workforce                 yes   \n",
       "1               out of workforce                  no   \n",
       "2               out of workforce                 yes   \n",
       "3               out of workforce                 yes   \n",
       "4                   in workforce                 yes   \n",
       "\n",
       "  Has_a_mobile_money_account Saved_in_the_past_year  \\\n",
       "0                        yes                      0   \n",
       "1                          0                    yes   \n",
       "2                        yes                    yes   \n",
       "3                          0                    yes   \n",
       "4                        yes                    yes   \n",
       "\n",
       "  Saved_in_past_12_months:_for_farm/business_purposes  \\\n",
       "0                                                 no    \n",
       "1                                                 no    \n",
       "2                                                yes    \n",
       "3                                                yes    \n",
       "4                                                yes    \n",
       "\n",
       "  Saved_in_past_12_months:_for_old_age  \n",
       "0                                   no  \n",
       "1                                  yes  \n",
       "2                                   no  \n",
       "3                                   no  \n",
       "4                                   no  "
      ]
     },
     "execution_count": 192,
     "metadata": {},
     "output_type": "execute_result"
    }
   ],
   "source": [
    "#check above has been done\n",
    "df.head()"
   ]
  },
  {
   "cell_type": "code",
   "execution_count": 193,
   "metadata": {},
   "outputs": [],
   "source": [
    "#rename(shorten) some variable names to make it easier for anaylsis\n",
    "df.rename(columns={\"Gallup_World_Poll_identifier\":\"unique_id\", \"Respondent_is_female\":\"female\", \"Respondent_age\":\"age\", \n",
    "                   \"Respondent_education_level\":\"education\", \"Within-economy_household_income_quintile\":\"hh_income_quintile\",\n",
    "                   \"Owns_a_mobile_phone\":\"owns_mobile_phone\", \"Respondent_is_in_the_workforce\":\"in_workforce\",\n",
    "                   \"Has_a_mobile_money_account\":\"mobile_money_account\", \"Saved_in_the_past_year\":\"saved\", \n",
    "                   \"Saved_in_past_12_months:_for_farm/business_purposes\":\"saved_farm_business\",\n",
    "                  \"Saved_in_past_12_months:_for_old_age\":\"saved_old_age\"}, inplace=True)"
   ]
  },
  {
   "cell_type": "code",
   "execution_count": 194,
   "metadata": {},
   "outputs": [
    {
     "name": "stdout",
     "output_type": "stream",
     "text": [
      "<class 'pandas.core.frame.DataFrame'>\n",
      "RangeIndex: 1000 entries, 0 to 999\n",
      "Data columns (total 11 columns):\n",
      " #   Column                Non-Null Count  Dtype  \n",
      "---  ------                --------------  -----  \n",
      " 0   unique_id             1000 non-null   int64  \n",
      " 1   female                1000 non-null   object \n",
      " 2   age                   997 non-null    float64\n",
      " 3   education             1000 non-null   object \n",
      " 4   hh_income_quintile    1000 non-null   object \n",
      " 5   in_workforce          1000 non-null   object \n",
      " 6   owns_mobile_phone     1000 non-null   object \n",
      " 7   mobile_money_account  1000 non-null   object \n",
      " 8   saved                 1000 non-null   object \n",
      " 9   saved_farm_business   1000 non-null   object \n",
      " 10  saved_old_age         1000 non-null   object \n",
      "dtypes: float64(1), int64(1), object(9)\n",
      "memory usage: 86.1+ KB\n"
     ]
    }
   ],
   "source": [
    "# check the datatypes are correct\n",
    "df.info()"
   ]
  },
  {
   "cell_type": "code",
   "execution_count": 195,
   "metadata": {},
   "outputs": [
    {
     "data": {
      "text/plain": [
       "unique_id               1000\n",
       "female                     2\n",
       "age                       72\n",
       "education                  5\n",
       "hh_income_quintile         5\n",
       "in_workforce               2\n",
       "owns_mobile_phone          3\n",
       "mobile_money_account       2\n",
       "saved                      2\n",
       "saved_farm_business        4\n",
       "saved_old_age              3\n",
       "dtype: int64"
      ]
     },
     "execution_count": 195,
     "metadata": {},
     "output_type": "execute_result"
    }
   ],
   "source": [
    "#check unique variables\n",
    "df.nunique()"
   ]
  },
  {
   "cell_type": "markdown",
   "metadata": {},
   "source": [
    "## check for missing values"
   ]
  },
  {
   "cell_type": "code",
   "execution_count": 196,
   "metadata": {},
   "outputs": [
    {
     "data": {
      "text/plain": [
       "unique_id               0\n",
       "female                  0\n",
       "age                     3\n",
       "education               0\n",
       "hh_income_quintile      0\n",
       "in_workforce            0\n",
       "owns_mobile_phone       0\n",
       "mobile_money_account    0\n",
       "saved                   0\n",
       "saved_farm_business     0\n",
       "saved_old_age           0\n",
       "dtype: int64"
      ]
     },
     "execution_count": 196,
     "metadata": {},
     "output_type": "execute_result"
    }
   ],
   "source": [
    "# checking columns that have missing data\n",
    "df.isnull().sum()"
   ]
  },
  {
   "cell_type": "code",
   "execution_count": 197,
   "metadata": {},
   "outputs": [],
   "source": [
    "# replace values written as dk(don't know), rf(refused) or ref as missing values\n",
    "df.replace({'(dk)':np.nan,'(rf)':np.nan,'(ref)':np.nan}, inplace=True)\n",
    "\n",
    "#drop missing values\n",
    "df.dropna(inplace=True)\n",
    "\n",
    "#reset the index\n",
    "df.reset_index(drop=True, inplace=True)"
   ]
  },
  {
   "cell_type": "code",
   "execution_count": 198,
   "metadata": {},
   "outputs": [
    {
     "name": "stdout",
     "output_type": "stream",
     "text": [
      "<class 'pandas.core.frame.DataFrame'>\n",
      "RangeIndex: 989 entries, 0 to 988\n",
      "Data columns (total 11 columns):\n",
      " #   Column                Non-Null Count  Dtype  \n",
      "---  ------                --------------  -----  \n",
      " 0   unique_id             989 non-null    int64  \n",
      " 1   female                989 non-null    object \n",
      " 2   age                   989 non-null    float64\n",
      " 3   education             989 non-null    object \n",
      " 4   hh_income_quintile    989 non-null    object \n",
      " 5   in_workforce          989 non-null    object \n",
      " 6   owns_mobile_phone     989 non-null    object \n",
      " 7   mobile_money_account  989 non-null    object \n",
      " 8   saved                 989 non-null    object \n",
      " 9   saved_farm_business   989 non-null    object \n",
      " 10  saved_old_age         989 non-null    object \n",
      "dtypes: float64(1), int64(1), object(9)\n",
      "memory usage: 85.1+ KB\n"
     ]
    }
   ],
   "source": [
    "#check the values have been removed\n",
    "df.info()"
   ]
  },
  {
   "cell_type": "code",
   "execution_count": 199,
   "metadata": {},
   "outputs": [
    {
     "data": {
      "text/plain": [
       "unique_id               989\n",
       "female                    2\n",
       "age                      72\n",
       "education                 3\n",
       "hh_income_quintile        5\n",
       "in_workforce              2\n",
       "owns_mobile_phone         2\n",
       "mobile_money_account      2\n",
       "saved                     2\n",
       "saved_farm_business       2\n",
       "saved_old_age             2\n",
       "dtype: int64"
      ]
     },
     "execution_count": 199,
     "metadata": {},
     "output_type": "execute_result"
    }
   ],
   "source": [
    "#check all variables that should have two outcomes have two outcomes\n",
    "df.nunique()"
   ]
  },
  {
   "cell_type": "code",
   "execution_count": 200,
   "metadata": {},
   "outputs": [
    {
     "data": {
      "text/html": [
       "<div>\n",
       "<style scoped>\n",
       "    .dataframe tbody tr th:only-of-type {\n",
       "        vertical-align: middle;\n",
       "    }\n",
       "\n",
       "    .dataframe tbody tr th {\n",
       "        vertical-align: top;\n",
       "    }\n",
       "\n",
       "    .dataframe thead th {\n",
       "        text-align: right;\n",
       "    }\n",
       "</style>\n",
       "<table border=\"1\" class=\"dataframe\">\n",
       "  <thead>\n",
       "    <tr style=\"text-align: right;\">\n",
       "      <th></th>\n",
       "      <th>unique_id</th>\n",
       "      <th>female</th>\n",
       "      <th>age</th>\n",
       "      <th>education</th>\n",
       "      <th>hh_income_quintile</th>\n",
       "      <th>in_workforce</th>\n",
       "      <th>owns_mobile_phone</th>\n",
       "      <th>mobile_money_account</th>\n",
       "      <th>saved</th>\n",
       "      <th>saved_farm_business</th>\n",
       "      <th>saved_old_age</th>\n",
       "    </tr>\n",
       "  </thead>\n",
       "  <tbody>\n",
       "    <tr>\n",
       "      <th>0</th>\n",
       "      <td>127909487</td>\n",
       "      <td>Male</td>\n",
       "      <td>39.0</td>\n",
       "      <td>secondary</td>\n",
       "      <td>Richest 20%</td>\n",
       "      <td>in workforce</td>\n",
       "      <td>yes</td>\n",
       "      <td>yes</td>\n",
       "      <td>0</td>\n",
       "      <td>no</td>\n",
       "      <td>no</td>\n",
       "    </tr>\n",
       "    <tr>\n",
       "      <th>1</th>\n",
       "      <td>144766923</td>\n",
       "      <td>Male</td>\n",
       "      <td>67.0</td>\n",
       "      <td>completed primary or less</td>\n",
       "      <td>Second 20%</td>\n",
       "      <td>out of workforce</td>\n",
       "      <td>no</td>\n",
       "      <td>0</td>\n",
       "      <td>yes</td>\n",
       "      <td>no</td>\n",
       "      <td>yes</td>\n",
       "    </tr>\n",
       "    <tr>\n",
       "      <th>2</th>\n",
       "      <td>164090858</td>\n",
       "      <td>Male</td>\n",
       "      <td>55.0</td>\n",
       "      <td>secondary</td>\n",
       "      <td>Middle 20%</td>\n",
       "      <td>out of workforce</td>\n",
       "      <td>yes</td>\n",
       "      <td>yes</td>\n",
       "      <td>yes</td>\n",
       "      <td>yes</td>\n",
       "      <td>no</td>\n",
       "    </tr>\n",
       "    <tr>\n",
       "      <th>3</th>\n",
       "      <td>182630524</td>\n",
       "      <td>Female</td>\n",
       "      <td>53.0</td>\n",
       "      <td>secondary</td>\n",
       "      <td>Poorest 20%</td>\n",
       "      <td>out of workforce</td>\n",
       "      <td>yes</td>\n",
       "      <td>0</td>\n",
       "      <td>yes</td>\n",
       "      <td>yes</td>\n",
       "      <td>no</td>\n",
       "    </tr>\n",
       "    <tr>\n",
       "      <th>4</th>\n",
       "      <td>178373653</td>\n",
       "      <td>Female</td>\n",
       "      <td>25.0</td>\n",
       "      <td>completed tertiary or more</td>\n",
       "      <td>Richest 20%</td>\n",
       "      <td>in workforce</td>\n",
       "      <td>yes</td>\n",
       "      <td>yes</td>\n",
       "      <td>yes</td>\n",
       "      <td>yes</td>\n",
       "      <td>no</td>\n",
       "    </tr>\n",
       "  </tbody>\n",
       "</table>\n",
       "</div>"
      ],
      "text/plain": [
       "   unique_id  female   age                   education hh_income_quintile  \\\n",
       "0  127909487    Male  39.0                   secondary        Richest 20%   \n",
       "1  144766923    Male  67.0   completed primary or less         Second 20%   \n",
       "2  164090858    Male  55.0                   secondary         Middle 20%   \n",
       "3  182630524  Female  53.0                   secondary        Poorest 20%   \n",
       "4  178373653  Female  25.0  completed tertiary or more        Richest 20%   \n",
       "\n",
       "       in_workforce owns_mobile_phone mobile_money_account saved  \\\n",
       "0      in workforce               yes                  yes     0   \n",
       "1  out of workforce                no                    0   yes   \n",
       "2  out of workforce               yes                  yes   yes   \n",
       "3  out of workforce               yes                    0   yes   \n",
       "4      in workforce               yes                  yes   yes   \n",
       "\n",
       "  saved_farm_business saved_old_age  \n",
       "0                  no            no  \n",
       "1                  no           yes  \n",
       "2                 yes            no  \n",
       "3                 yes            no  \n",
       "4                 yes            no  "
      ]
     },
     "execution_count": 200,
     "metadata": {},
     "output_type": "execute_result"
    }
   ],
   "source": [
    "df.head()"
   ]
  },
  {
   "cell_type": "markdown",
   "metadata": {},
   "source": [
    "### replacing certain string values with others"
   ]
  },
  {
   "cell_type": "code",
   "execution_count": 201,
   "metadata": {},
   "outputs": [],
   "source": [
    "#replace all 0 values for last four columns with a 'no' so that we have yes or no instead of yes and zero.\n",
    "df[\"mobile_money_account\"].replace({str(0): 'no'}, inplace=True)\n",
    "df[\"saved\"].replace({str(0): 'no'}, inplace=True)"
   ]
  },
  {
   "cell_type": "code",
   "execution_count": 202,
   "metadata": {},
   "outputs": [
    {
     "data": {
      "text/html": [
       "<div>\n",
       "<style scoped>\n",
       "    .dataframe tbody tr th:only-of-type {\n",
       "        vertical-align: middle;\n",
       "    }\n",
       "\n",
       "    .dataframe tbody tr th {\n",
       "        vertical-align: top;\n",
       "    }\n",
       "\n",
       "    .dataframe thead th {\n",
       "        text-align: right;\n",
       "    }\n",
       "</style>\n",
       "<table border=\"1\" class=\"dataframe\">\n",
       "  <thead>\n",
       "    <tr style=\"text-align: right;\">\n",
       "      <th></th>\n",
       "      <th>unique_id</th>\n",
       "      <th>female</th>\n",
       "      <th>age</th>\n",
       "      <th>education</th>\n",
       "      <th>hh_income_quintile</th>\n",
       "      <th>in_workforce</th>\n",
       "      <th>owns_mobile_phone</th>\n",
       "      <th>mobile_money_account</th>\n",
       "      <th>saved</th>\n",
       "      <th>saved_farm_business</th>\n",
       "      <th>saved_old_age</th>\n",
       "    </tr>\n",
       "  </thead>\n",
       "  <tbody>\n",
       "    <tr>\n",
       "      <th>0</th>\n",
       "      <td>127909487</td>\n",
       "      <td>Male</td>\n",
       "      <td>39.0</td>\n",
       "      <td>secondary</td>\n",
       "      <td>Richest 20%</td>\n",
       "      <td>in workforce</td>\n",
       "      <td>yes</td>\n",
       "      <td>yes</td>\n",
       "      <td>no</td>\n",
       "      <td>no</td>\n",
       "      <td>no</td>\n",
       "    </tr>\n",
       "    <tr>\n",
       "      <th>1</th>\n",
       "      <td>144766923</td>\n",
       "      <td>Male</td>\n",
       "      <td>67.0</td>\n",
       "      <td>completed primary or less</td>\n",
       "      <td>Second 20%</td>\n",
       "      <td>out of workforce</td>\n",
       "      <td>no</td>\n",
       "      <td>no</td>\n",
       "      <td>yes</td>\n",
       "      <td>no</td>\n",
       "      <td>yes</td>\n",
       "    </tr>\n",
       "    <tr>\n",
       "      <th>2</th>\n",
       "      <td>164090858</td>\n",
       "      <td>Male</td>\n",
       "      <td>55.0</td>\n",
       "      <td>secondary</td>\n",
       "      <td>Middle 20%</td>\n",
       "      <td>out of workforce</td>\n",
       "      <td>yes</td>\n",
       "      <td>yes</td>\n",
       "      <td>yes</td>\n",
       "      <td>yes</td>\n",
       "      <td>no</td>\n",
       "    </tr>\n",
       "    <tr>\n",
       "      <th>3</th>\n",
       "      <td>182630524</td>\n",
       "      <td>Female</td>\n",
       "      <td>53.0</td>\n",
       "      <td>secondary</td>\n",
       "      <td>Poorest 20%</td>\n",
       "      <td>out of workforce</td>\n",
       "      <td>yes</td>\n",
       "      <td>no</td>\n",
       "      <td>yes</td>\n",
       "      <td>yes</td>\n",
       "      <td>no</td>\n",
       "    </tr>\n",
       "    <tr>\n",
       "      <th>4</th>\n",
       "      <td>178373653</td>\n",
       "      <td>Female</td>\n",
       "      <td>25.0</td>\n",
       "      <td>completed tertiary or more</td>\n",
       "      <td>Richest 20%</td>\n",
       "      <td>in workforce</td>\n",
       "      <td>yes</td>\n",
       "      <td>yes</td>\n",
       "      <td>yes</td>\n",
       "      <td>yes</td>\n",
       "      <td>no</td>\n",
       "    </tr>\n",
       "  </tbody>\n",
       "</table>\n",
       "</div>"
      ],
      "text/plain": [
       "   unique_id  female   age                   education hh_income_quintile  \\\n",
       "0  127909487    Male  39.0                   secondary        Richest 20%   \n",
       "1  144766923    Male  67.0   completed primary or less         Second 20%   \n",
       "2  164090858    Male  55.0                   secondary         Middle 20%   \n",
       "3  182630524  Female  53.0                   secondary        Poorest 20%   \n",
       "4  178373653  Female  25.0  completed tertiary or more        Richest 20%   \n",
       "\n",
       "       in_workforce owns_mobile_phone mobile_money_account saved  \\\n",
       "0      in workforce               yes                  yes    no   \n",
       "1  out of workforce                no                   no   yes   \n",
       "2  out of workforce               yes                  yes   yes   \n",
       "3  out of workforce               yes                   no   yes   \n",
       "4      in workforce               yes                  yes   yes   \n",
       "\n",
       "  saved_farm_business saved_old_age  \n",
       "0                  no            no  \n",
       "1                  no           yes  \n",
       "2                 yes            no  \n",
       "3                 yes            no  \n",
       "4                 yes            no  "
      ]
     },
     "execution_count": 202,
     "metadata": {},
     "output_type": "execute_result"
    }
   ],
   "source": [
    "#check corrections have been done\n",
    "df.head()"
   ]
  },
  {
   "cell_type": "code",
   "execution_count": 203,
   "metadata": {},
   "outputs": [
    {
     "data": {
      "text/plain": [
       "unique_id               989\n",
       "female                    2\n",
       "age                      72\n",
       "education                 3\n",
       "hh_income_quintile        5\n",
       "in_workforce              2\n",
       "owns_mobile_phone         2\n",
       "mobile_money_account      2\n",
       "saved                     2\n",
       "saved_farm_business       2\n",
       "saved_old_age             2\n",
       "dtype: int64"
      ]
     },
     "execution_count": 203,
     "metadata": {},
     "output_type": "execute_result"
    }
   ],
   "source": [
    "#check all variables have two outcomes except education and income quintile\n",
    "df.nunique()"
   ]
  },
  {
   "cell_type": "markdown",
   "metadata": {},
   "source": [
    "## Univariate exploration of variables"
   ]
  },
  {
   "cell_type": "code",
   "execution_count": 204,
   "metadata": {},
   "outputs": [
    {
     "data": {
      "text/plain": [
       "Female    604\n",
       "Male      385\n",
       "Name: female, dtype: int64"
      ]
     },
     "execution_count": 204,
     "metadata": {},
     "output_type": "execute_result"
    }
   ],
   "source": [
    "#number of females and males\n",
    "df.female.value_counts()"
   ]
  },
  {
   "cell_type": "code",
   "execution_count": 205,
   "metadata": {},
   "outputs": [
    {
     "data": {
      "text/plain": [
       "yes    540\n",
       "no     449\n",
       "Name: saved, dtype: int64"
      ]
     },
     "execution_count": 205,
     "metadata": {},
     "output_type": "execute_result"
    }
   ],
   "source": [
    "#number of respondents that save and not save\n",
    "df.saved.value_counts()"
   ]
  },
  {
   "cell_type": "code",
   "execution_count": 206,
   "metadata": {},
   "outputs": [
    {
     "data": {
      "text/plain": [
       "no     763\n",
       "yes    226\n",
       "Name: saved_farm_business, dtype: int64"
      ]
     },
     "execution_count": 206,
     "metadata": {},
     "output_type": "execute_result"
    }
   ],
   "source": [
    "df.saved_farm_business.value_counts()"
   ]
  },
  {
   "cell_type": "code",
   "execution_count": 207,
   "metadata": {},
   "outputs": [
    {
     "data": {
      "text/plain": [
       "no     941\n",
       "yes     48\n",
       "Name: saved_old_age, dtype: int64"
      ]
     },
     "execution_count": 207,
     "metadata": {},
     "output_type": "execute_result"
    }
   ],
   "source": [
    "df.saved_old_age.value_counts()"
   ]
  },
  {
   "cell_type": "code",
   "execution_count": 208,
   "metadata": {},
   "outputs": [
    {
     "data": {
      "text/plain": [
       "yes    802\n",
       "no     187\n",
       "Name: owns_mobile_phone, dtype: int64"
      ]
     },
     "execution_count": 208,
     "metadata": {},
     "output_type": "execute_result"
    }
   ],
   "source": [
    "df.owns_mobile_phone.value_counts()"
   ]
  },
  {
   "cell_type": "code",
   "execution_count": 209,
   "metadata": {},
   "outputs": [
    {
     "data": {
      "text/plain": [
       "yes    509\n",
       "no     480\n",
       "Name: mobile_money_account, dtype: int64"
      ]
     },
     "execution_count": 209,
     "metadata": {},
     "output_type": "execute_result"
    }
   ],
   "source": [
    "df.mobile_money_account.value_counts()"
   ]
  },
  {
   "cell_type": "code",
   "execution_count": 210,
   "metadata": {},
   "outputs": [
    {
     "data": {
      "text/plain": [
       "in workforce        662\n",
       "out of workforce    327\n",
       "Name: in_workforce, dtype: int64"
      ]
     },
     "execution_count": 210,
     "metadata": {},
     "output_type": "execute_result"
    }
   ],
   "source": [
    "df.in_workforce.value_counts()"
   ]
  },
  {
   "cell_type": "code",
   "execution_count": 211,
   "metadata": {},
   "outputs": [
    {
     "data": {
      "text/plain": [
       "secondary                     668\n",
       "completed primary or less     265\n",
       "completed tertiary or more     56\n",
       "Name: education, dtype: int64"
      ]
     },
     "execution_count": 211,
     "metadata": {},
     "output_type": "execute_result"
    }
   ],
   "source": [
    "df.education.value_counts()"
   ]
  },
  {
   "cell_type": "code",
   "execution_count": 212,
   "metadata": {},
   "outputs": [
    {
     "data": {
      "image/png": "[encoded data removed]",
      "text/plain": [
       "<Figure size 432x288 with 1 Axes>"
      ]
     },
     "metadata": {},
     "output_type": "display_data"
    }
   ],
   "source": [
    "df.education.value_counts().plot(kind='pie');"
   ]
  },
  {
   "cell_type": "code",
   "execution_count": 213,
   "metadata": {},
   "outputs": [
    {
     "data": {
      "text/plain": [
       "Richest 20%    251\n",
       "Fourth 20%     210\n",
       "Second 20%     180\n",
       "Poorest 20%    174\n",
       "Middle 20%     174\n",
       "Name: hh_income_quintile, dtype: int64"
      ]
     },
     "execution_count": 213,
     "metadata": {},
     "output_type": "execute_result"
    }
   ],
   "source": [
    "df.hh_income_quintile.value_counts()"
   ]
  },
  {
   "cell_type": "code",
   "execution_count": 214,
   "metadata": {},
   "outputs": [
    {
     "data": {
      "image/png": "[encoded data removed]",
      "text/plain": [
       "<Figure size 864x288 with 1 Axes>"
      ]
     },
     "metadata": {
      "needs_background": "light"
     },
     "output_type": "display_data"
    }
   ],
   "source": [
    "plt.figure(figsize = [12, 4])\n",
    "#5 categories - poorest,second,middle,fourth,richest. i.e poorest, second poorest etc...\n",
    "cat_order = df['hh_income_quintile'].value_counts().index\n",
    "sb.countplot(data = df, x = 'hh_income_quintile', order = cat_order);"
   ]
  },
  {
   "cell_type": "code",
   "execution_count": 215,
   "metadata": {},
   "outputs": [
    {
     "data": {
      "text/plain": [
       "count    989.000000\n",
       "mean      36.612740\n",
       "std       16.547523\n",
       "min       15.000000\n",
       "25%       23.000000\n",
       "50%       33.000000\n",
       "75%       46.000000\n",
       "max       88.000000\n",
       "Name: age, dtype: float64"
      ]
     },
     "execution_count": 215,
     "metadata": {},
     "output_type": "execute_result"
    }
   ],
   "source": [
    "df.age.describe()"
   ]
  },
  {
   "cell_type": "code",
   "execution_count": 216,
   "metadata": {},
   "outputs": [
    {
     "data": {
      "image/png": "[encoded data removed]",
      "text/plain": [
       "<Figure size 432x288 with 1 Axes>"
      ]
     },
     "metadata": {
      "needs_background": "light"
     },
     "output_type": "display_data"
    }
   ],
   "source": [
    "plt.hist(data=df, x= 'age', bins=30, label='ages')\n",
    "plt.legend();"
   ]
  },
  {
   "cell_type": "markdown",
   "metadata": {},
   "source": [
    "## Bivariate exploration of variables"
   ]
  },
  {
   "cell_type": "code",
   "execution_count": 217,
   "metadata": {},
   "outputs": [],
   "source": [
    "# use df2 specifically only to see correlations of categorical values before changing them into dummy variables\n",
    "df2=df.replace({'yes':1, 'no': 0})"
   ]
  },
  {
   "cell_type": "code",
   "execution_count": 218,
   "metadata": {},
   "outputs": [
    {
     "data": {
      "image/png": "[encoded data removed]",
      "text/plain": [
       "<Figure size 432x288 with 2 Axes>"
      ]
     },
     "metadata": {
      "needs_background": "light"
     },
     "output_type": "display_data"
    }
   ],
   "source": [
    "# heatmap showing correlations\n",
    "sb.heatmap(df2.corr(), annot = True, fmt = '.3f',\n",
    "           cmap = 'vlag_r', center = 0)\n",
    "plt.show()"
   ]
  },
  {
   "cell_type": "code",
   "execution_count": 219,
   "metadata": {},
   "outputs": [
    {
     "data": {
      "text/html": [
       "<div>\n",
       "<style scoped>\n",
       "    .dataframe tbody tr th:only-of-type {\n",
       "        vertical-align: middle;\n",
       "    }\n",
       "\n",
       "    .dataframe tbody tr th {\n",
       "        vertical-align: top;\n",
       "    }\n",
       "\n",
       "    .dataframe thead th {\n",
       "        text-align: right;\n",
       "    }\n",
       "</style>\n",
       "<table border=\"1\" class=\"dataframe\">\n",
       "  <thead>\n",
       "    <tr style=\"text-align: right;\">\n",
       "      <th>mobile_money_account</th>\n",
       "      <th>no</th>\n",
       "      <th>yes</th>\n",
       "    </tr>\n",
       "    <tr>\n",
       "      <th>saved</th>\n",
       "      <th></th>\n",
       "      <th></th>\n",
       "    </tr>\n",
       "  </thead>\n",
       "  <tbody>\n",
       "    <tr>\n",
       "      <th>no</th>\n",
       "      <td>272</td>\n",
       "      <td>177</td>\n",
       "    </tr>\n",
       "    <tr>\n",
       "      <th>yes</th>\n",
       "      <td>208</td>\n",
       "      <td>332</td>\n",
       "    </tr>\n",
       "  </tbody>\n",
       "</table>\n",
       "</div>"
      ],
      "text/plain": [
       "mobile_money_account   no  yes\n",
       "saved                         \n",
       "no                    272  177\n",
       "yes                   208  332"
      ]
     },
     "execution_count": 219,
     "metadata": {},
     "output_type": "execute_result"
    }
   ],
   "source": [
    "saved_vs_mobile_account = pd.crosstab(index=df[\"saved\"], \n",
    "                          columns=df[\"mobile_money_account\"])\n",
    "\n",
    "saved_vs_mobile_account"
   ]
  },
  {
   "cell_type": "code",
   "execution_count": 220,
   "metadata": {},
   "outputs": [
    {
     "data": {
      "text/html": [
       "<div>\n",
       "<style scoped>\n",
       "    .dataframe tbody tr th:only-of-type {\n",
       "        vertical-align: middle;\n",
       "    }\n",
       "\n",
       "    .dataframe tbody tr th {\n",
       "        vertical-align: top;\n",
       "    }\n",
       "\n",
       "    .dataframe thead th {\n",
       "        text-align: right;\n",
       "    }\n",
       "</style>\n",
       "<table border=\"1\" class=\"dataframe\">\n",
       "  <thead>\n",
       "    <tr style=\"text-align: right;\">\n",
       "      <th>mobile_money_account</th>\n",
       "      <th>no</th>\n",
       "      <th>yes</th>\n",
       "    </tr>\n",
       "    <tr>\n",
       "      <th>saved_farm_business</th>\n",
       "      <th></th>\n",
       "      <th></th>\n",
       "    </tr>\n",
       "  </thead>\n",
       "  <tbody>\n",
       "    <tr>\n",
       "      <th>no</th>\n",
       "      <td>396</td>\n",
       "      <td>367</td>\n",
       "    </tr>\n",
       "    <tr>\n",
       "      <th>yes</th>\n",
       "      <td>84</td>\n",
       "      <td>142</td>\n",
       "    </tr>\n",
       "  </tbody>\n",
       "</table>\n",
       "</div>"
      ],
      "text/plain": [
       "mobile_money_account   no  yes\n",
       "saved_farm_business           \n",
       "no                    396  367\n",
       "yes                    84  142"
      ]
     },
     "execution_count": 220,
     "metadata": {},
     "output_type": "execute_result"
    }
   ],
   "source": [
    "saved_fb_vs_mobile_account = pd.crosstab(index=df[\"saved_farm_business\"], \n",
    "                          columns=df[\"mobile_money_account\"])\n",
    "\n",
    "saved_fb_vs_mobile_account"
   ]
  },
  {
   "cell_type": "code",
   "execution_count": 221,
   "metadata": {},
   "outputs": [
    {
     "data": {
      "text/html": [
       "<div>\n",
       "<style scoped>\n",
       "    .dataframe tbody tr th:only-of-type {\n",
       "        vertical-align: middle;\n",
       "    }\n",
       "\n",
       "    .dataframe tbody tr th {\n",
       "        vertical-align: top;\n",
       "    }\n",
       "\n",
       "    .dataframe thead th {\n",
       "        text-align: right;\n",
       "    }\n",
       "</style>\n",
       "<table border=\"1\" class=\"dataframe\">\n",
       "  <thead>\n",
       "    <tr style=\"text-align: right;\">\n",
       "      <th>mobile_money_account</th>\n",
       "      <th>no</th>\n",
       "      <th>yes</th>\n",
       "    </tr>\n",
       "    <tr>\n",
       "      <th>saved_old_age</th>\n",
       "      <th></th>\n",
       "      <th></th>\n",
       "    </tr>\n",
       "  </thead>\n",
       "  <tbody>\n",
       "    <tr>\n",
       "      <th>no</th>\n",
       "      <td>466</td>\n",
       "      <td>475</td>\n",
       "    </tr>\n",
       "    <tr>\n",
       "      <th>yes</th>\n",
       "      <td>14</td>\n",
       "      <td>34</td>\n",
       "    </tr>\n",
       "  </tbody>\n",
       "</table>\n",
       "</div>"
      ],
      "text/plain": [
       "mobile_money_account   no  yes\n",
       "saved_old_age                 \n",
       "no                    466  475\n",
       "yes                    14   34"
      ]
     },
     "execution_count": 221,
     "metadata": {},
     "output_type": "execute_result"
    }
   ],
   "source": [
    "saved_age_vs_mobile_account = pd.crosstab(index=df[\"saved_old_age\"], \n",
    "                          columns=df[\"mobile_money_account\"])\n",
    "\n",
    "saved_age_vs_mobile_account"
   ]
  },
  {
   "cell_type": "code",
   "execution_count": 222,
   "metadata": {},
   "outputs": [
    {
     "data": {
      "text/html": [
       "<div>\n",
       "<style scoped>\n",
       "    .dataframe tbody tr th:only-of-type {\n",
       "        vertical-align: middle;\n",
       "    }\n",
       "\n",
       "    .dataframe tbody tr th {\n",
       "        vertical-align: top;\n",
       "    }\n",
       "\n",
       "    .dataframe thead th {\n",
       "        text-align: right;\n",
       "    }\n",
       "</style>\n",
       "<table border=\"1\" class=\"dataframe\">\n",
       "  <thead>\n",
       "    <tr style=\"text-align: right;\">\n",
       "      <th>owns_mobile_phone</th>\n",
       "      <th>no</th>\n",
       "      <th>yes</th>\n",
       "    </tr>\n",
       "    <tr>\n",
       "      <th>mobile_money_account</th>\n",
       "      <th></th>\n",
       "      <th></th>\n",
       "    </tr>\n",
       "  </thead>\n",
       "  <tbody>\n",
       "    <tr>\n",
       "      <th>no</th>\n",
       "      <td>147</td>\n",
       "      <td>333</td>\n",
       "    </tr>\n",
       "    <tr>\n",
       "      <th>yes</th>\n",
       "      <td>40</td>\n",
       "      <td>469</td>\n",
       "    </tr>\n",
       "  </tbody>\n",
       "</table>\n",
       "</div>"
      ],
      "text/plain": [
       "owns_mobile_phone      no  yes\n",
       "mobile_money_account          \n",
       "no                    147  333\n",
       "yes                    40  469"
      ]
     },
     "execution_count": 222,
     "metadata": {},
     "output_type": "execute_result"
    }
   ],
   "source": [
    "saved_and_owns_mobile = pd.crosstab(index=df[\"mobile_money_account\"], \n",
    "                          columns=df[\"owns_mobile_phone\"])\n",
    "\n",
    "saved_and_owns_mobile"
   ]
  },
  {
   "cell_type": "code",
   "execution_count": 223,
   "metadata": {},
   "outputs": [
    {
     "data": {
      "text/html": [
       "<div>\n",
       "<style scoped>\n",
       "    .dataframe tbody tr th:only-of-type {\n",
       "        vertical-align: middle;\n",
       "    }\n",
       "\n",
       "    .dataframe tbody tr th {\n",
       "        vertical-align: top;\n",
       "    }\n",
       "\n",
       "    .dataframe thead th {\n",
       "        text-align: right;\n",
       "    }\n",
       "</style>\n",
       "<table border=\"1\" class=\"dataframe\">\n",
       "  <thead>\n",
       "    <tr style=\"text-align: right;\">\n",
       "      <th>education</th>\n",
       "      <th>completed primary or less</th>\n",
       "      <th>completed tertiary or more</th>\n",
       "      <th>secondary</th>\n",
       "    </tr>\n",
       "    <tr>\n",
       "      <th>saved</th>\n",
       "      <th></th>\n",
       "      <th></th>\n",
       "      <th></th>\n",
       "    </tr>\n",
       "  </thead>\n",
       "  <tbody>\n",
       "    <tr>\n",
       "      <th>no</th>\n",
       "      <td>147</td>\n",
       "      <td>12</td>\n",
       "      <td>290</td>\n",
       "    </tr>\n",
       "    <tr>\n",
       "      <th>yes</th>\n",
       "      <td>118</td>\n",
       "      <td>44</td>\n",
       "      <td>378</td>\n",
       "    </tr>\n",
       "  </tbody>\n",
       "</table>\n",
       "</div>"
      ],
      "text/plain": [
       "education  completed primary or less  completed tertiary or more  secondary\n",
       "saved                                                                      \n",
       "no                               147                          12        290\n",
       "yes                              118                          44        378"
      ]
     },
     "execution_count": 223,
     "metadata": {},
     "output_type": "execute_result"
    }
   ],
   "source": [
    "pd.crosstab([df.saved], df.education)"
   ]
  },
  {
   "cell_type": "code",
   "execution_count": 224,
   "metadata": {},
   "outputs": [
    {
     "data": {
      "text/html": [
       "<div>\n",
       "<style scoped>\n",
       "    .dataframe tbody tr th:only-of-type {\n",
       "        vertical-align: middle;\n",
       "    }\n",
       "\n",
       "    .dataframe tbody tr th {\n",
       "        vertical-align: top;\n",
       "    }\n",
       "\n",
       "    .dataframe thead th {\n",
       "        text-align: right;\n",
       "    }\n",
       "</style>\n",
       "<table border=\"1\" class=\"dataframe\">\n",
       "  <thead>\n",
       "    <tr style=\"text-align: right;\">\n",
       "      <th>education</th>\n",
       "      <th>completed primary or less</th>\n",
       "      <th>completed tertiary or more</th>\n",
       "      <th>secondary</th>\n",
       "    </tr>\n",
       "    <tr>\n",
       "      <th>saved_old_age</th>\n",
       "      <th></th>\n",
       "      <th></th>\n",
       "      <th></th>\n",
       "    </tr>\n",
       "  </thead>\n",
       "  <tbody>\n",
       "    <tr>\n",
       "      <th>no</th>\n",
       "      <td>258</td>\n",
       "      <td>47</td>\n",
       "      <td>636</td>\n",
       "    </tr>\n",
       "    <tr>\n",
       "      <th>yes</th>\n",
       "      <td>7</td>\n",
       "      <td>9</td>\n",
       "      <td>32</td>\n",
       "    </tr>\n",
       "  </tbody>\n",
       "</table>\n",
       "</div>"
      ],
      "text/plain": [
       "education      completed primary or less  completed tertiary or more  \\\n",
       "saved_old_age                                                          \n",
       "no                                   258                          47   \n",
       "yes                                    7                           9   \n",
       "\n",
       "education      secondary  \n",
       "saved_old_age             \n",
       "no                   636  \n",
       "yes                   32  "
      ]
     },
     "execution_count": 224,
     "metadata": {},
     "output_type": "execute_result"
    }
   ],
   "source": [
    "pd.crosstab([df.saved_old_age], df.education)"
   ]
  },
  {
   "cell_type": "code",
   "execution_count": 225,
   "metadata": {},
   "outputs": [
    {
     "data": {
      "text/html": [
       "<div>\n",
       "<style scoped>\n",
       "    .dataframe tbody tr th:only-of-type {\n",
       "        vertical-align: middle;\n",
       "    }\n",
       "\n",
       "    .dataframe tbody tr th {\n",
       "        vertical-align: top;\n",
       "    }\n",
       "\n",
       "    .dataframe thead th {\n",
       "        text-align: right;\n",
       "    }\n",
       "</style>\n",
       "<table border=\"1\" class=\"dataframe\">\n",
       "  <thead>\n",
       "    <tr style=\"text-align: right;\">\n",
       "      <th>education</th>\n",
       "      <th>completed primary or less</th>\n",
       "      <th>completed tertiary or more</th>\n",
       "      <th>secondary</th>\n",
       "    </tr>\n",
       "    <tr>\n",
       "      <th>saved_farm_business</th>\n",
       "      <th></th>\n",
       "      <th></th>\n",
       "      <th></th>\n",
       "    </tr>\n",
       "  </thead>\n",
       "  <tbody>\n",
       "    <tr>\n",
       "      <th>no</th>\n",
       "      <td>216</td>\n",
       "      <td>34</td>\n",
       "      <td>513</td>\n",
       "    </tr>\n",
       "    <tr>\n",
       "      <th>yes</th>\n",
       "      <td>49</td>\n",
       "      <td>22</td>\n",
       "      <td>155</td>\n",
       "    </tr>\n",
       "  </tbody>\n",
       "</table>\n",
       "</div>"
      ],
      "text/plain": [
       "education            completed primary or less  completed tertiary or more  \\\n",
       "saved_farm_business                                                          \n",
       "no                                         216                          34   \n",
       "yes                                         49                          22   \n",
       "\n",
       "education            secondary  \n",
       "saved_farm_business             \n",
       "no                         513  \n",
       "yes                        155  "
      ]
     },
     "execution_count": 225,
     "metadata": {},
     "output_type": "execute_result"
    }
   ],
   "source": [
    "pd.crosstab([df.saved_farm_business], df.education)"
   ]
  },
  {
   "cell_type": "code",
   "execution_count": 226,
   "metadata": {},
   "outputs": [
    {
     "data": {
      "text/html": [
       "<div>\n",
       "<style scoped>\n",
       "    .dataframe tbody tr th:only-of-type {\n",
       "        vertical-align: middle;\n",
       "    }\n",
       "\n",
       "    .dataframe tbody tr th {\n",
       "        vertical-align: top;\n",
       "    }\n",
       "\n",
       "    .dataframe thead th {\n",
       "        text-align: right;\n",
       "    }\n",
       "</style>\n",
       "<table border=\"1\" class=\"dataframe\">\n",
       "  <thead>\n",
       "    <tr style=\"text-align: right;\">\n",
       "      <th>hh_income_quintile</th>\n",
       "      <th>Fourth 20%</th>\n",
       "      <th>Middle 20%</th>\n",
       "      <th>Poorest 20%</th>\n",
       "      <th>Richest 20%</th>\n",
       "      <th>Second 20%</th>\n",
       "    </tr>\n",
       "    <tr>\n",
       "      <th>saved</th>\n",
       "      <th></th>\n",
       "      <th></th>\n",
       "      <th></th>\n",
       "      <th></th>\n",
       "      <th></th>\n",
       "    </tr>\n",
       "  </thead>\n",
       "  <tbody>\n",
       "    <tr>\n",
       "      <th>no</th>\n",
       "      <td>82</td>\n",
       "      <td>91</td>\n",
       "      <td>92</td>\n",
       "      <td>89</td>\n",
       "      <td>95</td>\n",
       "    </tr>\n",
       "    <tr>\n",
       "      <th>yes</th>\n",
       "      <td>128</td>\n",
       "      <td>83</td>\n",
       "      <td>82</td>\n",
       "      <td>162</td>\n",
       "      <td>85</td>\n",
       "    </tr>\n",
       "  </tbody>\n",
       "</table>\n",
       "</div>"
      ],
      "text/plain": [
       "hh_income_quintile  Fourth 20%  Middle 20%  Poorest 20%  Richest 20%  \\\n",
       "saved                                                                  \n",
       "no                          82          91           92           89   \n",
       "yes                        128          83           82          162   \n",
       "\n",
       "hh_income_quintile  Second 20%  \n",
       "saved                           \n",
       "no                          95  \n",
       "yes                         85  "
      ]
     },
     "execution_count": 226,
     "metadata": {},
     "output_type": "execute_result"
    }
   ],
   "source": [
    "pd.crosstab([df.saved], df.hh_income_quintile)"
   ]
  },
  {
   "cell_type": "code",
   "execution_count": 227,
   "metadata": {},
   "outputs": [
    {
     "data": {
      "text/html": [
       "<div>\n",
       "<style scoped>\n",
       "    .dataframe tbody tr th:only-of-type {\n",
       "        vertical-align: middle;\n",
       "    }\n",
       "\n",
       "    .dataframe tbody tr th {\n",
       "        vertical-align: top;\n",
       "    }\n",
       "\n",
       "    .dataframe thead th {\n",
       "        text-align: right;\n",
       "    }\n",
       "</style>\n",
       "<table border=\"1\" class=\"dataframe\">\n",
       "  <thead>\n",
       "    <tr style=\"text-align: right;\">\n",
       "      <th>hh_income_quintile</th>\n",
       "      <th>Fourth 20%</th>\n",
       "      <th>Middle 20%</th>\n",
       "      <th>Poorest 20%</th>\n",
       "      <th>Richest 20%</th>\n",
       "      <th>Second 20%</th>\n",
       "    </tr>\n",
       "    <tr>\n",
       "      <th>saved_old_age</th>\n",
       "      <th></th>\n",
       "      <th></th>\n",
       "      <th></th>\n",
       "      <th></th>\n",
       "      <th></th>\n",
       "    </tr>\n",
       "  </thead>\n",
       "  <tbody>\n",
       "    <tr>\n",
       "      <th>no</th>\n",
       "      <td>204</td>\n",
       "      <td>168</td>\n",
       "      <td>172</td>\n",
       "      <td>223</td>\n",
       "      <td>174</td>\n",
       "    </tr>\n",
       "    <tr>\n",
       "      <th>yes</th>\n",
       "      <td>6</td>\n",
       "      <td>6</td>\n",
       "      <td>2</td>\n",
       "      <td>28</td>\n",
       "      <td>6</td>\n",
       "    </tr>\n",
       "  </tbody>\n",
       "</table>\n",
       "</div>"
      ],
      "text/plain": [
       "hh_income_quintile  Fourth 20%  Middle 20%  Poorest 20%  Richest 20%  \\\n",
       "saved_old_age                                                          \n",
       "no                         204         168          172          223   \n",
       "yes                          6           6            2           28   \n",
       "\n",
       "hh_income_quintile  Second 20%  \n",
       "saved_old_age                   \n",
       "no                         174  \n",
       "yes                          6  "
      ]
     },
     "execution_count": 227,
     "metadata": {},
     "output_type": "execute_result"
    }
   ],
   "source": [
    "pd.crosstab([df.saved_old_age], df.hh_income_quintile)"
   ]
  },
  {
   "cell_type": "code",
   "execution_count": 228,
   "metadata": {},
   "outputs": [
    {
     "data": {
      "text/html": [
       "<div>\n",
       "<style scoped>\n",
       "    .dataframe tbody tr th:only-of-type {\n",
       "        vertical-align: middle;\n",
       "    }\n",
       "\n",
       "    .dataframe tbody tr th {\n",
       "        vertical-align: top;\n",
       "    }\n",
       "\n",
       "    .dataframe thead th {\n",
       "        text-align: right;\n",
       "    }\n",
       "</style>\n",
       "<table border=\"1\" class=\"dataframe\">\n",
       "  <thead>\n",
       "    <tr style=\"text-align: right;\">\n",
       "      <th>hh_income_quintile</th>\n",
       "      <th>Fourth 20%</th>\n",
       "      <th>Middle 20%</th>\n",
       "      <th>Poorest 20%</th>\n",
       "      <th>Richest 20%</th>\n",
       "      <th>Second 20%</th>\n",
       "    </tr>\n",
       "    <tr>\n",
       "      <th>saved_farm_business</th>\n",
       "      <th></th>\n",
       "      <th></th>\n",
       "      <th></th>\n",
       "      <th></th>\n",
       "      <th></th>\n",
       "    </tr>\n",
       "  </thead>\n",
       "  <tbody>\n",
       "    <tr>\n",
       "      <th>no</th>\n",
       "      <td>158</td>\n",
       "      <td>136</td>\n",
       "      <td>137</td>\n",
       "      <td>189</td>\n",
       "      <td>143</td>\n",
       "    </tr>\n",
       "    <tr>\n",
       "      <th>yes</th>\n",
       "      <td>52</td>\n",
       "      <td>38</td>\n",
       "      <td>37</td>\n",
       "      <td>62</td>\n",
       "      <td>37</td>\n",
       "    </tr>\n",
       "  </tbody>\n",
       "</table>\n",
       "</div>"
      ],
      "text/plain": [
       "hh_income_quintile   Fourth 20%  Middle 20%  Poorest 20%  Richest 20%  \\\n",
       "saved_farm_business                                                     \n",
       "no                          158         136          137          189   \n",
       "yes                          52          38           37           62   \n",
       "\n",
       "hh_income_quintile   Second 20%  \n",
       "saved_farm_business              \n",
       "no                          143  \n",
       "yes                          37  "
      ]
     },
     "execution_count": 228,
     "metadata": {},
     "output_type": "execute_result"
    }
   ],
   "source": [
    "pd.crosstab([df.saved_farm_business], df.hh_income_quintile)"
   ]
  },
  {
   "cell_type": "markdown",
   "metadata": {},
   "source": [
    "# regression\n",
    "### Logistic Regression because the response variable is categorical that can only predict two possible outcomes."
   ]
  },
  {
   "cell_type": "code",
   "execution_count": 229,
   "metadata": {},
   "outputs": [
    {
     "data": {
      "text/html": [
       "<div>\n",
       "<style scoped>\n",
       "    .dataframe tbody tr th:only-of-type {\n",
       "        vertical-align: middle;\n",
       "    }\n",
       "\n",
       "    .dataframe tbody tr th {\n",
       "        vertical-align: top;\n",
       "    }\n",
       "\n",
       "    .dataframe thead th {\n",
       "        text-align: right;\n",
       "    }\n",
       "</style>\n",
       "<table border=\"1\" class=\"dataframe\">\n",
       "  <thead>\n",
       "    <tr style=\"text-align: right;\">\n",
       "      <th></th>\n",
       "      <th>unique_id</th>\n",
       "      <th>female</th>\n",
       "      <th>age</th>\n",
       "      <th>education</th>\n",
       "      <th>hh_income_quintile</th>\n",
       "      <th>in_workforce</th>\n",
       "      <th>owns_mobile_phone</th>\n",
       "      <th>mobile_money_account</th>\n",
       "      <th>saved</th>\n",
       "      <th>saved_farm_business</th>\n",
       "      <th>saved_old_age</th>\n",
       "    </tr>\n",
       "  </thead>\n",
       "  <tbody>\n",
       "    <tr>\n",
       "      <th>0</th>\n",
       "      <td>127909487</td>\n",
       "      <td>Male</td>\n",
       "      <td>39.0</td>\n",
       "      <td>secondary</td>\n",
       "      <td>Richest 20%</td>\n",
       "      <td>in workforce</td>\n",
       "      <td>yes</td>\n",
       "      <td>yes</td>\n",
       "      <td>no</td>\n",
       "      <td>no</td>\n",
       "      <td>no</td>\n",
       "    </tr>\n",
       "    <tr>\n",
       "      <th>1</th>\n",
       "      <td>144766923</td>\n",
       "      <td>Male</td>\n",
       "      <td>67.0</td>\n",
       "      <td>completed primary or less</td>\n",
       "      <td>Second 20%</td>\n",
       "      <td>out of workforce</td>\n",
       "      <td>no</td>\n",
       "      <td>no</td>\n",
       "      <td>yes</td>\n",
       "      <td>no</td>\n",
       "      <td>yes</td>\n",
       "    </tr>\n",
       "  </tbody>\n",
       "</table>\n",
       "</div>"
      ],
      "text/plain": [
       "   unique_id female   age                  education hh_income_quintile  \\\n",
       "0  127909487   Male  39.0                  secondary        Richest 20%   \n",
       "1  144766923   Male  67.0  completed primary or less         Second 20%   \n",
       "\n",
       "       in_workforce owns_mobile_phone mobile_money_account saved  \\\n",
       "0      in workforce               yes                  yes    no   \n",
       "1  out of workforce                no                   no   yes   \n",
       "\n",
       "  saved_farm_business saved_old_age  \n",
       "0                  no            no  \n",
       "1                  no           yes  "
      ]
     },
     "execution_count": 229,
     "metadata": {},
     "output_type": "execute_result"
    }
   ],
   "source": [
    "#check to see which variables need to be prepared for the regression\n",
    "df.head(2)"
   ]
  },
  {
   "cell_type": "code",
   "execution_count": 230,
   "metadata": {},
   "outputs": [],
   "source": [
    "#create age squared variable\n",
    "mean_age=df.age.mean() # find average age\n",
    "age_cen=df.age-mean_age # subtract average age from each age value\n",
    "df['age_sqr']=age_cen*age_cen # create age squared variable"
   ]
  },
  {
   "cell_type": "code",
   "execution_count": 231,
   "metadata": {},
   "outputs": [
    {
     "data": {
      "text/html": [
       "<div>\n",
       "<style scoped>\n",
       "    .dataframe tbody tr th:only-of-type {\n",
       "        vertical-align: middle;\n",
       "    }\n",
       "\n",
       "    .dataframe tbody tr th {\n",
       "        vertical-align: top;\n",
       "    }\n",
       "\n",
       "    .dataframe thead th {\n",
       "        text-align: right;\n",
       "    }\n",
       "</style>\n",
       "<table border=\"1\" class=\"dataframe\">\n",
       "  <thead>\n",
       "    <tr style=\"text-align: right;\">\n",
       "      <th></th>\n",
       "      <th>unique_id</th>\n",
       "      <th>female</th>\n",
       "      <th>age</th>\n",
       "      <th>education</th>\n",
       "      <th>hh_income_quintile</th>\n",
       "      <th>in_workforce</th>\n",
       "      <th>owns_mobile_phone</th>\n",
       "      <th>mobile_money_account</th>\n",
       "      <th>saved</th>\n",
       "      <th>saved_farm_business</th>\n",
       "      <th>saved_old_age</th>\n",
       "      <th>age_sqr</th>\n",
       "    </tr>\n",
       "  </thead>\n",
       "  <tbody>\n",
       "    <tr>\n",
       "      <th>0</th>\n",
       "      <td>127909487</td>\n",
       "      <td>0</td>\n",
       "      <td>39.0</td>\n",
       "      <td>secondary</td>\n",
       "      <td>Richest 20%</td>\n",
       "      <td>1</td>\n",
       "      <td>1</td>\n",
       "      <td>1</td>\n",
       "      <td>0</td>\n",
       "      <td>0</td>\n",
       "      <td>0</td>\n",
       "      <td>5.699010</td>\n",
       "    </tr>\n",
       "    <tr>\n",
       "      <th>1</th>\n",
       "      <td>144766923</td>\n",
       "      <td>0</td>\n",
       "      <td>67.0</td>\n",
       "      <td>completed primary or less</td>\n",
       "      <td>Second 20%</td>\n",
       "      <td>0</td>\n",
       "      <td>0</td>\n",
       "      <td>0</td>\n",
       "      <td>1</td>\n",
       "      <td>0</td>\n",
       "      <td>1</td>\n",
       "      <td>923.385562</td>\n",
       "    </tr>\n",
       "    <tr>\n",
       "      <th>2</th>\n",
       "      <td>164090858</td>\n",
       "      <td>0</td>\n",
       "      <td>55.0</td>\n",
       "      <td>secondary</td>\n",
       "      <td>Middle 20%</td>\n",
       "      <td>0</td>\n",
       "      <td>1</td>\n",
       "      <td>1</td>\n",
       "      <td>1</td>\n",
       "      <td>1</td>\n",
       "      <td>0</td>\n",
       "      <td>338.091325</td>\n",
       "    </tr>\n",
       "    <tr>\n",
       "      <th>3</th>\n",
       "      <td>182630524</td>\n",
       "      <td>1</td>\n",
       "      <td>53.0</td>\n",
       "      <td>secondary</td>\n",
       "      <td>Poorest 20%</td>\n",
       "      <td>0</td>\n",
       "      <td>1</td>\n",
       "      <td>0</td>\n",
       "      <td>1</td>\n",
       "      <td>1</td>\n",
       "      <td>0</td>\n",
       "      <td>268.542286</td>\n",
       "    </tr>\n",
       "    <tr>\n",
       "      <th>4</th>\n",
       "      <td>178373653</td>\n",
       "      <td>1</td>\n",
       "      <td>25.0</td>\n",
       "      <td>completed tertiary or more</td>\n",
       "      <td>Richest 20%</td>\n",
       "      <td>1</td>\n",
       "      <td>1</td>\n",
       "      <td>1</td>\n",
       "      <td>1</td>\n",
       "      <td>1</td>\n",
       "      <td>0</td>\n",
       "      <td>134.855734</td>\n",
       "    </tr>\n",
       "  </tbody>\n",
       "</table>\n",
       "</div>"
      ],
      "text/plain": [
       "   unique_id  female   age                   education hh_income_quintile  \\\n",
       "0  127909487       0  39.0                   secondary        Richest 20%   \n",
       "1  144766923       0  67.0   completed primary or less         Second 20%   \n",
       "2  164090858       0  55.0                   secondary         Middle 20%   \n",
       "3  182630524       1  53.0                   secondary        Poorest 20%   \n",
       "4  178373653       1  25.0  completed tertiary or more        Richest 20%   \n",
       "\n",
       "   in_workforce  owns_mobile_phone  mobile_money_account  saved  \\\n",
       "0             1                  1                     1      0   \n",
       "1             0                  0                     0      1   \n",
       "2             0                  1                     1      1   \n",
       "3             0                  1                     0      1   \n",
       "4             1                  1                     1      1   \n",
       "\n",
       "   saved_farm_business  saved_old_age     age_sqr  \n",
       "0                    0              0    5.699010  \n",
       "1                    0              1  923.385562  \n",
       "2                    1              0  338.091325  \n",
       "3                    1              0  268.542286  \n",
       "4                    1              0  134.855734  "
      ]
     },
     "execution_count": 231,
     "metadata": {},
     "output_type": "execute_result"
    }
   ],
   "source": [
    "#replace all yes values with 1 and all no's with 0, \n",
    "#for sex, female=1 and male=0\n",
    "#for workforce, in_workforce=1 and out of workforce=0\n",
    "df.replace({'yes':1, 'no': 0}, inplace=True)\n",
    "df.replace({'Female':1, 'Male': 0}, inplace=True)\n",
    "df.in_workforce.replace({'in workforce':1, 'out of workforce': 0}, inplace=True)\n",
    "df.head()"
   ]
  },
  {
   "cell_type": "code",
   "execution_count": 232,
   "metadata": {},
   "outputs": [],
   "source": [
    "#For education and hh_income create dummy variables for them for the regression\n",
    "education =pd.get_dummies(df['education'], drop_first=True)\n",
    "income=pd.get_dummies(df['hh_income_quintile'], drop_first=True)"
   ]
  },
  {
   "cell_type": "code",
   "execution_count": 233,
   "metadata": {},
   "outputs": [],
   "source": [
    "# add the dummy variobles to the dataframe\n",
    "df = pd.concat([df,education,income], axis=1)"
   ]
  },
  {
   "cell_type": "code",
   "execution_count": 234,
   "metadata": {},
   "outputs": [
    {
     "data": {
      "text/html": [
       "<div>\n",
       "<style scoped>\n",
       "    .dataframe tbody tr th:only-of-type {\n",
       "        vertical-align: middle;\n",
       "    }\n",
       "\n",
       "    .dataframe tbody tr th {\n",
       "        vertical-align: top;\n",
       "    }\n",
       "\n",
       "    .dataframe thead th {\n",
       "        text-align: right;\n",
       "    }\n",
       "</style>\n",
       "<table border=\"1\" class=\"dataframe\">\n",
       "  <thead>\n",
       "    <tr style=\"text-align: right;\">\n",
       "      <th></th>\n",
       "      <th>unique_id</th>\n",
       "      <th>female</th>\n",
       "      <th>age</th>\n",
       "      <th>education</th>\n",
       "      <th>hh_income_quintile</th>\n",
       "      <th>in_workforce</th>\n",
       "      <th>owns_mobile_phone</th>\n",
       "      <th>mobile_money_account</th>\n",
       "      <th>saved</th>\n",
       "      <th>saved_farm_business</th>\n",
       "      <th>saved_old_age</th>\n",
       "      <th>age_sqr</th>\n",
       "      <th>completed tertiary or more</th>\n",
       "      <th>secondary</th>\n",
       "      <th>Middle 20%</th>\n",
       "      <th>Poorest 20%</th>\n",
       "      <th>Richest 20%</th>\n",
       "      <th>Second 20%</th>\n",
       "    </tr>\n",
       "  </thead>\n",
       "  <tbody>\n",
       "    <tr>\n",
       "      <th>0</th>\n",
       "      <td>127909487</td>\n",
       "      <td>0</td>\n",
       "      <td>39.0</td>\n",
       "      <td>secondary</td>\n",
       "      <td>Richest 20%</td>\n",
       "      <td>1</td>\n",
       "      <td>1</td>\n",
       "      <td>1</td>\n",
       "      <td>0</td>\n",
       "      <td>0</td>\n",
       "      <td>0</td>\n",
       "      <td>5.69901</td>\n",
       "      <td>0</td>\n",
       "      <td>1</td>\n",
       "      <td>0</td>\n",
       "      <td>0</td>\n",
       "      <td>1</td>\n",
       "      <td>0</td>\n",
       "    </tr>\n",
       "  </tbody>\n",
       "</table>\n",
       "</div>"
      ],
      "text/plain": [
       "   unique_id  female   age  education hh_income_quintile  in_workforce  \\\n",
       "0  127909487       0  39.0  secondary        Richest 20%             1   \n",
       "\n",
       "   owns_mobile_phone  mobile_money_account  saved  saved_farm_business  \\\n",
       "0                  1                     1      0                    0   \n",
       "\n",
       "   saved_old_age  age_sqr  completed tertiary or more  secondary  Middle 20%  \\\n",
       "0              0  5.69901                           0          1           0   \n",
       "\n",
       "   Poorest 20%  Richest 20%  Second 20%  \n",
       "0            0            1           0  "
      ]
     },
     "execution_count": 234,
     "metadata": {},
     "output_type": "execute_result"
    }
   ],
   "source": [
    "#check its done\n",
    "df.head(1)"
   ]
  },
  {
   "cell_type": "code",
   "execution_count": 235,
   "metadata": {},
   "outputs": [],
   "source": [
    "#drop extra variables not being used anymore since we now have dummy variables for them\n",
    "df.drop(['unique_id','education','hh_income_quintile','owns_mobile_phone'],axis=1,inplace=True)"
   ]
  },
  {
   "cell_type": "code",
   "execution_count": 236,
   "metadata": {},
   "outputs": [
    {
     "data": {
      "text/html": [
       "<div>\n",
       "<style scoped>\n",
       "    .dataframe tbody tr th:only-of-type {\n",
       "        vertical-align: middle;\n",
       "    }\n",
       "\n",
       "    .dataframe tbody tr th {\n",
       "        vertical-align: top;\n",
       "    }\n",
       "\n",
       "    .dataframe thead th {\n",
       "        text-align: right;\n",
       "    }\n",
       "</style>\n",
       "<table border=\"1\" class=\"dataframe\">\n",
       "  <thead>\n",
       "    <tr style=\"text-align: right;\">\n",
       "      <th></th>\n",
       "      <th>female</th>\n",
       "      <th>age</th>\n",
       "      <th>in_workforce</th>\n",
       "      <th>mobile_money_account</th>\n",
       "      <th>saved</th>\n",
       "      <th>saved_farm_business</th>\n",
       "      <th>saved_old_age</th>\n",
       "      <th>age_sqr</th>\n",
       "      <th>completed tertiary or more</th>\n",
       "      <th>secondary</th>\n",
       "      <th>Middle 20%</th>\n",
       "      <th>Poorest 20%</th>\n",
       "      <th>Richest 20%</th>\n",
       "      <th>Second 20%</th>\n",
       "    </tr>\n",
       "  </thead>\n",
       "  <tbody>\n",
       "    <tr>\n",
       "      <th>0</th>\n",
       "      <td>0</td>\n",
       "      <td>39.0</td>\n",
       "      <td>1</td>\n",
       "      <td>1</td>\n",
       "      <td>0</td>\n",
       "      <td>0</td>\n",
       "      <td>0</td>\n",
       "      <td>5.699010</td>\n",
       "      <td>0</td>\n",
       "      <td>1</td>\n",
       "      <td>0</td>\n",
       "      <td>0</td>\n",
       "      <td>1</td>\n",
       "      <td>0</td>\n",
       "    </tr>\n",
       "    <tr>\n",
       "      <th>1</th>\n",
       "      <td>0</td>\n",
       "      <td>67.0</td>\n",
       "      <td>0</td>\n",
       "      <td>0</td>\n",
       "      <td>1</td>\n",
       "      <td>0</td>\n",
       "      <td>1</td>\n",
       "      <td>923.385562</td>\n",
       "      <td>0</td>\n",
       "      <td>0</td>\n",
       "      <td>0</td>\n",
       "      <td>0</td>\n",
       "      <td>0</td>\n",
       "      <td>1</td>\n",
       "    </tr>\n",
       "    <tr>\n",
       "      <th>2</th>\n",
       "      <td>0</td>\n",
       "      <td>55.0</td>\n",
       "      <td>0</td>\n",
       "      <td>1</td>\n",
       "      <td>1</td>\n",
       "      <td>1</td>\n",
       "      <td>0</td>\n",
       "      <td>338.091325</td>\n",
       "      <td>0</td>\n",
       "      <td>1</td>\n",
       "      <td>1</td>\n",
       "      <td>0</td>\n",
       "      <td>0</td>\n",
       "      <td>0</td>\n",
       "    </tr>\n",
       "    <tr>\n",
       "      <th>3</th>\n",
       "      <td>1</td>\n",
       "      <td>53.0</td>\n",
       "      <td>0</td>\n",
       "      <td>0</td>\n",
       "      <td>1</td>\n",
       "      <td>1</td>\n",
       "      <td>0</td>\n",
       "      <td>268.542286</td>\n",
       "      <td>0</td>\n",
       "      <td>1</td>\n",
       "      <td>0</td>\n",
       "      <td>1</td>\n",
       "      <td>0</td>\n",
       "      <td>0</td>\n",
       "    </tr>\n",
       "    <tr>\n",
       "      <th>4</th>\n",
       "      <td>1</td>\n",
       "      <td>25.0</td>\n",
       "      <td>1</td>\n",
       "      <td>1</td>\n",
       "      <td>1</td>\n",
       "      <td>1</td>\n",
       "      <td>0</td>\n",
       "      <td>134.855734</td>\n",
       "      <td>1</td>\n",
       "      <td>0</td>\n",
       "      <td>0</td>\n",
       "      <td>0</td>\n",
       "      <td>1</td>\n",
       "      <td>0</td>\n",
       "    </tr>\n",
       "  </tbody>\n",
       "</table>\n",
       "</div>"
      ],
      "text/plain": [
       "   female   age  in_workforce  mobile_money_account  saved  \\\n",
       "0       0  39.0             1                     1      0   \n",
       "1       0  67.0             0                     0      1   \n",
       "2       0  55.0             0                     1      1   \n",
       "3       1  53.0             0                     0      1   \n",
       "4       1  25.0             1                     1      1   \n",
       "\n",
       "   saved_farm_business  saved_old_age     age_sqr  completed tertiary or more  \\\n",
       "0                    0              0    5.699010                           0   \n",
       "1                    0              1  923.385562                           0   \n",
       "2                    1              0  338.091325                           0   \n",
       "3                    1              0  268.542286                           0   \n",
       "4                    1              0  134.855734                           1   \n",
       "\n",
       "   secondary  Middle 20%  Poorest 20%  Richest 20%  Second 20%  \n",
       "0          1           0            0            1           0  \n",
       "1          0           0            0            0           1  \n",
       "2          1           1            0            0           0  \n",
       "3          1           0            1            0           0  \n",
       "4          0           0            0            1           0  "
      ]
     },
     "execution_count": 236,
     "metadata": {},
     "output_type": "execute_result"
    }
   ],
   "source": [
    "#check\n",
    "df.head()"
   ]
  },
  {
   "cell_type": "markdown",
   "metadata": {},
   "source": [
    "## Run different regressions"
   ]
  },
  {
   "cell_type": "code",
   "execution_count": 237,
   "metadata": {},
   "outputs": [],
   "source": [
    "#import package used for regression\n",
    "import statsmodels.api as sm"
   ]
  },
  {
   "cell_type": "code",
   "execution_count": 238,
   "metadata": {},
   "outputs": [
    {
     "name": "stdout",
     "output_type": "stream",
     "text": [
      "Optimization terminated successfully.\n",
      "         Current function value: 0.664574\n",
      "         Iterations 4\n"
     ]
    },
    {
     "data": {
      "text/html": [
       "<table class=\"simpletable\">\n",
       "<caption>Logit Regression Results</caption>\n",
       "<tr>\n",
       "  <th>Dep. Variable:</th>         <td>saved</td>      <th>  No. Observations:  </th>  <td>   989</td>  \n",
       "</tr>\n",
       "<tr>\n",
       "  <th>Model:</th>                 <td>Logit</td>      <th>  Df Residuals:      </th>  <td>   987</td>  \n",
       "</tr>\n",
       "<tr>\n",
       "  <th>Method:</th>                 <td>MLE</td>       <th>  Df Model:          </th>  <td>     1</td>  \n",
       "</tr>\n",
       "<tr>\n",
       "  <th>Date:</th>            <td>Mon, 20 Jul 2020</td> <th>  Pseudo R-squ.:     </th>  <td>0.03532</td> \n",
       "</tr>\n",
       "<tr>\n",
       "  <th>Time:</th>                <td>22:22:19</td>     <th>  Log-Likelihood:    </th> <td> -657.26</td> \n",
       "</tr>\n",
       "<tr>\n",
       "  <th>converged:</th>             <td>True</td>       <th>  LL-Null:           </th> <td> -681.33</td> \n",
       "</tr>\n",
       "<tr>\n",
       "  <th>Covariance Type:</th>     <td>nonrobust</td>    <th>  LLR p-value:       </th> <td>3.984e-12</td>\n",
       "</tr>\n",
       "</table>\n",
       "<table class=\"simpletable\">\n",
       "<tr>\n",
       "            <td></td>              <th>coef</th>     <th>std err</th>      <th>z</th>      <th>P>|z|</th>  <th>[0.025</th>    <th>0.975]</th>  \n",
       "</tr>\n",
       "<tr>\n",
       "  <th>intercept</th>            <td>   -0.2683</td> <td>    0.092</td> <td>   -2.912</td> <td> 0.004</td> <td>   -0.449</td> <td>   -0.088</td>\n",
       "</tr>\n",
       "<tr>\n",
       "  <th>mobile_money_account</th> <td>    0.8972</td> <td>    0.131</td> <td>    6.852</td> <td> 0.000</td> <td>    0.641</td> <td>    1.154</td>\n",
       "</tr>\n",
       "</table>"
      ],
      "text/plain": [
       "<class 'statsmodels.iolib.summary.Summary'>\n",
       "\"\"\"\n",
       "                           Logit Regression Results                           \n",
       "==============================================================================\n",
       "Dep. Variable:                  saved   No. Observations:                  989\n",
       "Model:                          Logit   Df Residuals:                      987\n",
       "Method:                           MLE   Df Model:                            1\n",
       "Date:                Mon, 20 Jul 2020   Pseudo R-squ.:                 0.03532\n",
       "Time:                        22:22:19   Log-Likelihood:                -657.26\n",
       "converged:                       True   LL-Null:                       -681.33\n",
       "Covariance Type:            nonrobust   LLR p-value:                 3.984e-12\n",
       "========================================================================================\n",
       "                           coef    std err          z      P>|z|      [0.025      0.975]\n",
       "----------------------------------------------------------------------------------------\n",
       "intercept               -0.2683      0.092     -2.912      0.004      -0.449      -0.088\n",
       "mobile_money_account     0.8972      0.131      6.852      0.000       0.641       1.154\n",
       "========================================================================================\n",
       "\"\"\""
      ]
     },
     "execution_count": 238,
     "metadata": {},
     "output_type": "execute_result"
    }
   ],
   "source": [
    "# the logit regression model for saved\n",
    "df['intercept']=1 #creating the intercept\n",
    "logit_model = sm.Logit(df['saved'],df[['intercept', 'mobile_money_account']])\n",
    "results1=logit_model.fit()\n",
    "results1.summary()"
   ]
  },
  {
   "cell_type": "code",
   "execution_count": 239,
   "metadata": {},
   "outputs": [
    {
     "name": "stdout",
     "output_type": "stream",
     "text": [
      "intercept               0.764706\n",
      "mobile_money_account    2.452847\n",
      "dtype: float64\n"
     ]
    }
   ],
   "source": [
    "#calculating odds ratios\n",
    "print(np.exp(results1.params))"
   ]
  },
  {
   "cell_type": "code",
   "execution_count": 240,
   "metadata": {},
   "outputs": [
    {
     "name": "stdout",
     "output_type": "stream",
     "text": [
      "Optimization terminated successfully.\n",
      "         Current function value: 0.190218\n",
      "         Iterations 7\n"
     ]
    },
    {
     "data": {
      "text/html": [
       "<table class=\"simpletable\">\n",
       "<caption>Logit Regression Results</caption>\n",
       "<tr>\n",
       "  <th>Dep. Variable:</th>     <td>saved_old_age</td>  <th>  No. Observations:  </th>  <td>   989</td> \n",
       "</tr>\n",
       "<tr>\n",
       "  <th>Model:</th>                 <td>Logit</td>      <th>  Df Residuals:      </th>  <td>   987</td> \n",
       "</tr>\n",
       "<tr>\n",
       "  <th>Method:</th>                 <td>MLE</td>       <th>  Df Model:          </th>  <td>     1</td> \n",
       "</tr>\n",
       "<tr>\n",
       "  <th>Date:</th>            <td>Mon, 20 Jul 2020</td> <th>  Pseudo R-squ.:     </th>  <td>0.02038</td>\n",
       "</tr>\n",
       "<tr>\n",
       "  <th>Time:</th>                <td>22:22:19</td>     <th>  Log-Likelihood:    </th> <td> -188.13</td>\n",
       "</tr>\n",
       "<tr>\n",
       "  <th>converged:</th>             <td>True</td>       <th>  LL-Null:           </th> <td> -192.04</td>\n",
       "</tr>\n",
       "<tr>\n",
       "  <th>Covariance Type:</th>     <td>nonrobust</td>    <th>  LLR p-value:       </th> <td>0.005143</td>\n",
       "</tr>\n",
       "</table>\n",
       "<table class=\"simpletable\">\n",
       "<tr>\n",
       "            <td></td>              <th>coef</th>     <th>std err</th>      <th>z</th>      <th>P>|z|</th>  <th>[0.025</th>    <th>0.975]</th>  \n",
       "</tr>\n",
       "<tr>\n",
       "  <th>intercept</th>            <td>   -3.5051</td> <td>    0.271</td> <td>  -12.922</td> <td> 0.000</td> <td>   -4.037</td> <td>   -2.973</td>\n",
       "</tr>\n",
       "<tr>\n",
       "  <th>mobile_money_account</th> <td>    0.8682</td> <td>    0.324</td> <td>    2.678</td> <td> 0.007</td> <td>    0.233</td> <td>    1.504</td>\n",
       "</tr>\n",
       "</table>"
      ],
      "text/plain": [
       "<class 'statsmodels.iolib.summary.Summary'>\n",
       "\"\"\"\n",
       "                           Logit Regression Results                           \n",
       "==============================================================================\n",
       "Dep. Variable:          saved_old_age   No. Observations:                  989\n",
       "Model:                          Logit   Df Residuals:                      987\n",
       "Method:                           MLE   Df Model:                            1\n",
       "Date:                Mon, 20 Jul 2020   Pseudo R-squ.:                 0.02038\n",
       "Time:                        22:22:19   Log-Likelihood:                -188.13\n",
       "converged:                       True   LL-Null:                       -192.04\n",
       "Covariance Type:            nonrobust   LLR p-value:                  0.005143\n",
       "========================================================================================\n",
       "                           coef    std err          z      P>|z|      [0.025      0.975]\n",
       "----------------------------------------------------------------------------------------\n",
       "intercept               -3.5051      0.271    -12.922      0.000      -4.037      -2.973\n",
       "mobile_money_account     0.8682      0.324      2.678      0.007       0.233       1.504\n",
       "========================================================================================\n",
       "\"\"\""
      ]
     },
     "execution_count": 240,
     "metadata": {},
     "output_type": "execute_result"
    }
   ],
   "source": [
    "# the logit regression model for saved old age\n",
    "df['intercept']=1 #creating the intercept\n",
    "logit_model = sm.Logit(df['saved_old_age'],df[['intercept', 'mobile_money_account']])\n",
    "results2=logit_model.fit()\n",
    "results2.summary()"
   ]
  },
  {
   "cell_type": "code",
   "execution_count": 241,
   "metadata": {},
   "outputs": [
    {
     "name": "stdout",
     "output_type": "stream",
     "text": [
      "intercept               0.030043\n",
      "mobile_money_account    2.382556\n",
      "dtype: float64\n"
     ]
    }
   ],
   "source": [
    "#calculating odds ratios\n",
    "print(np.exp(results2.params))"
   ]
  },
  {
   "cell_type": "code",
   "execution_count": 242,
   "metadata": {},
   "outputs": [
    {
     "name": "stdout",
     "output_type": "stream",
     "text": [
      "Optimization terminated successfully.\n",
      "         Current function value: 0.529737\n",
      "         Iterations 5\n"
     ]
    },
    {
     "data": {
      "text/html": [
       "<table class=\"simpletable\">\n",
       "<caption>Logit Regression Results</caption>\n",
       "<tr>\n",
       "  <th>Dep. Variable:</th>   <td>saved_farm_business</td> <th>  No. Observations:  </th>  <td>   989</td>  \n",
       "</tr>\n",
       "<tr>\n",
       "  <th>Model:</th>                  <td>Logit</td>        <th>  Df Residuals:      </th>  <td>   987</td>  \n",
       "</tr>\n",
       "<tr>\n",
       "  <th>Method:</th>                  <td>MLE</td>         <th>  Df Model:          </th>  <td>     1</td>  \n",
       "</tr>\n",
       "<tr>\n",
       "  <th>Date:</th>             <td>Mon, 20 Jul 2020</td>   <th>  Pseudo R-squ.:     </th>  <td>0.01440</td> \n",
       "</tr>\n",
       "<tr>\n",
       "  <th>Time:</th>                 <td>22:22:19</td>       <th>  Log-Likelihood:    </th> <td> -523.91</td> \n",
       "</tr>\n",
       "<tr>\n",
       "  <th>converged:</th>              <td>True</td>         <th>  LL-Null:           </th> <td> -531.56</td> \n",
       "</tr>\n",
       "<tr>\n",
       "  <th>Covariance Type:</th>      <td>nonrobust</td>      <th>  LLR p-value:       </th> <td>9.148e-05</td>\n",
       "</tr>\n",
       "</table>\n",
       "<table class=\"simpletable\">\n",
       "<tr>\n",
       "            <td></td>              <th>coef</th>     <th>std err</th>      <th>z</th>      <th>P>|z|</th>  <th>[0.025</th>    <th>0.975]</th>  \n",
       "</tr>\n",
       "<tr>\n",
       "  <th>intercept</th>            <td>   -1.5506</td> <td>    0.120</td> <td>  -12.908</td> <td> 0.000</td> <td>   -1.786</td> <td>   -1.315</td>\n",
       "</tr>\n",
       "<tr>\n",
       "  <th>mobile_money_account</th> <td>    0.6011</td> <td>    0.156</td> <td>    3.864</td> <td> 0.000</td> <td>    0.296</td> <td>    0.906</td>\n",
       "</tr>\n",
       "</table>"
      ],
      "text/plain": [
       "<class 'statsmodels.iolib.summary.Summary'>\n",
       "\"\"\"\n",
       "                            Logit Regression Results                           \n",
       "===============================================================================\n",
       "Dep. Variable:     saved_farm_business   No. Observations:                  989\n",
       "Model:                           Logit   Df Residuals:                      987\n",
       "Method:                            MLE   Df Model:                            1\n",
       "Date:                 Mon, 20 Jul 2020   Pseudo R-squ.:                 0.01440\n",
       "Time:                         22:22:19   Log-Likelihood:                -523.91\n",
       "converged:                        True   LL-Null:                       -531.56\n",
       "Covariance Type:             nonrobust   LLR p-value:                 9.148e-05\n",
       "========================================================================================\n",
       "                           coef    std err          z      P>|z|      [0.025      0.975]\n",
       "----------------------------------------------------------------------------------------\n",
       "intercept               -1.5506      0.120    -12.908      0.000      -1.786      -1.315\n",
       "mobile_money_account     0.6011      0.156      3.864      0.000       0.296       0.906\n",
       "========================================================================================\n",
       "\"\"\""
      ]
     },
     "execution_count": 242,
     "metadata": {},
     "output_type": "execute_result"
    }
   ],
   "source": [
    "# the logit regression model for saved farm business\n",
    "df['intercept']=1 #creating the intercept\n",
    "logit_model = sm.Logit(df['saved_farm_business'],df[['intercept', 'mobile_money_account']])\n",
    "results3=logit_model.fit()\n",
    "results3.summary()"
   ]
  },
  {
   "cell_type": "code",
   "execution_count": 243,
   "metadata": {},
   "outputs": [
    {
     "name": "stdout",
     "output_type": "stream",
     "text": [
      "intercept               0.212121\n",
      "mobile_money_account    1.824056\n",
      "dtype: float64\n"
     ]
    }
   ],
   "source": [
    "print(np.exp(results3.params))"
   ]
  },
  {
   "cell_type": "code",
   "execution_count": 244,
   "metadata": {},
   "outputs": [
    {
     "name": "stdout",
     "output_type": "stream",
     "text": [
      "Optimization terminated successfully.\n",
      "         Current function value: 0.648253\n",
      "         Iterations 5\n"
     ]
    },
    {
     "data": {
      "text/html": [
       "<table class=\"simpletable\">\n",
       "<caption>Logit Regression Results</caption>\n",
       "<tr>\n",
       "  <th>Dep. Variable:</th>         <td>saved</td>      <th>  No. Observations:  </th>  <td>   989</td>  \n",
       "</tr>\n",
       "<tr>\n",
       "  <th>Model:</th>                 <td>Logit</td>      <th>  Df Residuals:      </th>  <td>   977</td>  \n",
       "</tr>\n",
       "<tr>\n",
       "  <th>Method:</th>                 <td>MLE</td>       <th>  Df Model:          </th>  <td>    11</td>  \n",
       "</tr>\n",
       "<tr>\n",
       "  <th>Date:</th>            <td>Mon, 20 Jul 2020</td> <th>  Pseudo R-squ.:     </th>  <td>0.05901</td> \n",
       "</tr>\n",
       "<tr>\n",
       "  <th>Time:</th>                <td>22:22:19</td>     <th>  Log-Likelihood:    </th> <td> -641.12</td> \n",
       "</tr>\n",
       "<tr>\n",
       "  <th>converged:</th>             <td>True</td>       <th>  LL-Null:           </th> <td> -681.33</td> \n",
       "</tr>\n",
       "<tr>\n",
       "  <th>Covariance Type:</th>     <td>nonrobust</td>    <th>  LLR p-value:       </th> <td>1.226e-12</td>\n",
       "</tr>\n",
       "</table>\n",
       "<table class=\"simpletable\">\n",
       "<tr>\n",
       "               <td></td>                 <th>coef</th>     <th>std err</th>      <th>z</th>      <th>P>|z|</th>  <th>[0.025</th>    <th>0.975]</th>  \n",
       "</tr>\n",
       "<tr>\n",
       "  <th>intercept</th>                  <td>   -0.5707</td> <td>    0.320</td> <td>   -1.783</td> <td> 0.075</td> <td>   -1.198</td> <td>    0.057</td>\n",
       "</tr>\n",
       "<tr>\n",
       "  <th>mobile_money_account</th>       <td>    0.7399</td> <td>    0.139</td> <td>    5.329</td> <td> 0.000</td> <td>    0.468</td> <td>    1.012</td>\n",
       "</tr>\n",
       "<tr>\n",
       "  <th>female</th>                     <td>    0.1888</td> <td>    0.142</td> <td>    1.329</td> <td> 0.184</td> <td>   -0.090</td> <td>    0.467</td>\n",
       "</tr>\n",
       "<tr>\n",
       "  <th>age</th>                        <td>   -0.0015</td> <td>    0.005</td> <td>   -0.288</td> <td> 0.773</td> <td>   -0.012</td> <td>    0.009</td>\n",
       "</tr>\n",
       "<tr>\n",
       "  <th>age_sqr</th>                    <td>    0.0002</td> <td>    0.000</td> <td>    0.678</td> <td> 0.498</td> <td>   -0.000</td> <td>    0.001</td>\n",
       "</tr>\n",
       "<tr>\n",
       "  <th>in_workforce</th>               <td>    0.4889</td> <td>    0.150</td> <td>    3.254</td> <td> 0.001</td> <td>    0.194</td> <td>    0.783</td>\n",
       "</tr>\n",
       "<tr>\n",
       "  <th>completed tertiary or more</th> <td>    0.9717</td> <td>    0.382</td> <td>    2.543</td> <td> 0.011</td> <td>    0.223</td> <td>    1.721</td>\n",
       "</tr>\n",
       "<tr>\n",
       "  <th>secondary</th>                  <td>    0.2183</td> <td>    0.174</td> <td>    1.258</td> <td> 0.208</td> <td>   -0.122</td> <td>    0.558</td>\n",
       "</tr>\n",
       "<tr>\n",
       "  <th>Poorest 20%</th>                <td>   -0.3493</td> <td>    0.220</td> <td>   -1.587</td> <td> 0.112</td> <td>   -0.781</td> <td>    0.082</td>\n",
       "</tr>\n",
       "<tr>\n",
       "  <th>Second 20%</th>                 <td>   -0.4920</td> <td>    0.215</td> <td>   -2.291</td> <td> 0.022</td> <td>   -0.913</td> <td>   -0.071</td>\n",
       "</tr>\n",
       "<tr>\n",
       "  <th>Middle 20%</th>                 <td>   -0.4311</td> <td>    0.215</td> <td>   -2.010</td> <td> 0.044</td> <td>   -0.852</td> <td>   -0.011</td>\n",
       "</tr>\n",
       "<tr>\n",
       "  <th>Richest 20%</th>                <td>   -0.0387</td> <td>    0.205</td> <td>   -0.189</td> <td> 0.850</td> <td>   -0.440</td> <td>    0.362</td>\n",
       "</tr>\n",
       "</table>"
      ],
      "text/plain": [
       "<class 'statsmodels.iolib.summary.Summary'>\n",
       "\"\"\"\n",
       "                           Logit Regression Results                           \n",
       "==============================================================================\n",
       "Dep. Variable:                  saved   No. Observations:                  989\n",
       "Model:                          Logit   Df Residuals:                      977\n",
       "Method:                           MLE   Df Model:                           11\n",
       "Date:                Mon, 20 Jul 2020   Pseudo R-squ.:                 0.05901\n",
       "Time:                        22:22:19   Log-Likelihood:                -641.12\n",
       "converged:                       True   LL-Null:                       -681.33\n",
       "Covariance Type:            nonrobust   LLR p-value:                 1.226e-12\n",
       "==============================================================================================\n",
       "                                 coef    std err          z      P>|z|      [0.025      0.975]\n",
       "----------------------------------------------------------------------------------------------\n",
       "intercept                     -0.5707      0.320     -1.783      0.075      -1.198       0.057\n",
       "mobile_money_account           0.7399      0.139      5.329      0.000       0.468       1.012\n",
       "female                         0.1888      0.142      1.329      0.184      -0.090       0.467\n",
       "age                           -0.0015      0.005     -0.288      0.773      -0.012       0.009\n",
       "age_sqr                        0.0002      0.000      0.678      0.498      -0.000       0.001\n",
       "in_workforce                   0.4889      0.150      3.254      0.001       0.194       0.783\n",
       "completed tertiary or more     0.9717      0.382      2.543      0.011       0.223       1.721\n",
       "secondary                      0.2183      0.174      1.258      0.208      -0.122       0.558\n",
       "Poorest 20%                   -0.3493      0.220     -1.587      0.112      -0.781       0.082\n",
       "Second 20%                    -0.4920      0.215     -2.291      0.022      -0.913      -0.071\n",
       "Middle 20%                    -0.4311      0.215     -2.010      0.044      -0.852      -0.011\n",
       "Richest 20%                   -0.0387      0.205     -0.189      0.850      -0.440       0.362\n",
       "==============================================================================================\n",
       "\"\"\""
      ]
     },
     "execution_count": 244,
     "metadata": {},
     "output_type": "execute_result"
    }
   ],
   "source": [
    "#include controls\n",
    "logit_model = sm.Logit(df['saved'],df[['intercept', 'mobile_money_account','female','age', 'age_sqr','in_workforce',\n",
    "                                       'completed tertiary or more','secondary', \n",
    "                                       'Poorest 20%','Second 20%','Middle 20%', 'Richest 20%']])\n",
    "results4=logit_model.fit()\n",
    "results4.summary()"
   ]
  },
  {
   "cell_type": "code",
   "execution_count": 245,
   "metadata": {},
   "outputs": [
    {
     "name": "stdout",
     "output_type": "stream",
     "text": [
      "intercept                     0.565140\n",
      "mobile_money_account          2.095682\n",
      "female                        1.207746\n",
      "age                           0.998464\n",
      "age_sqr                       1.000154\n",
      "in_workforce                  1.630516\n",
      "completed tertiary or more    2.642489\n",
      "secondary                     1.243999\n",
      "Poorest 20%                   0.705162\n",
      "Second 20%                    0.611414\n",
      "Middle 20%                    0.649762\n",
      "Richest 20%                   0.961996\n",
      "dtype: float64\n"
     ]
    }
   ],
   "source": [
    "print(np.exp(results4.params))"
   ]
  },
  {
   "cell_type": "code",
   "execution_count": 246,
   "metadata": {},
   "outputs": [
    {
     "name": "stdout",
     "output_type": "stream",
     "text": [
      "Optimization terminated successfully.\n",
      "         Current function value: 0.175815\n",
      "         Iterations 8\n"
     ]
    },
    {
     "data": {
      "text/html": [
       "<table class=\"simpletable\">\n",
       "<caption>Logit Regression Results</caption>\n",
       "<tr>\n",
       "  <th>Dep. Variable:</th>     <td>saved_old_age</td>  <th>  No. Observations:  </th>  <td>   989</td>  \n",
       "</tr>\n",
       "<tr>\n",
       "  <th>Model:</th>                 <td>Logit</td>      <th>  Df Residuals:      </th>  <td>   977</td>  \n",
       "</tr>\n",
       "<tr>\n",
       "  <th>Method:</th>                 <td>MLE</td>       <th>  Df Model:          </th>  <td>    11</td>  \n",
       "</tr>\n",
       "<tr>\n",
       "  <th>Date:</th>            <td>Mon, 20 Jul 2020</td> <th>  Pseudo R-squ.:     </th>  <td>0.09456</td> \n",
       "</tr>\n",
       "<tr>\n",
       "  <th>Time:</th>                <td>22:22:20</td>     <th>  Log-Likelihood:    </th> <td> -173.88</td> \n",
       "</tr>\n",
       "<tr>\n",
       "  <th>converged:</th>             <td>True</td>       <th>  LL-Null:           </th> <td> -192.04</td> \n",
       "</tr>\n",
       "<tr>\n",
       "  <th>Covariance Type:</th>     <td>nonrobust</td>    <th>  LLR p-value:       </th> <td>0.0001498</td>\n",
       "</tr>\n",
       "</table>\n",
       "<table class=\"simpletable\">\n",
       "<tr>\n",
       "               <td></td>                 <th>coef</th>     <th>std err</th>      <th>z</th>      <th>P>|z|</th>  <th>[0.025</th>    <th>0.975]</th>  \n",
       "</tr>\n",
       "<tr>\n",
       "  <th>intercept</th>                  <td>   -4.4187</td> <td>    0.858</td> <td>   -5.150</td> <td> 0.000</td> <td>   -6.100</td> <td>   -2.737</td>\n",
       "</tr>\n",
       "<tr>\n",
       "  <th>mobile_money_account</th>       <td>    0.5194</td> <td>    0.348</td> <td>    1.493</td> <td> 0.135</td> <td>   -0.163</td> <td>    1.201</td>\n",
       "</tr>\n",
       "<tr>\n",
       "  <th>female</th>                     <td>   -0.2929</td> <td>    0.314</td> <td>   -0.931</td> <td> 0.352</td> <td>   -0.909</td> <td>    0.323</td>\n",
       "</tr>\n",
       "<tr>\n",
       "  <th>age</th>                        <td>    0.0181</td> <td>    0.013</td> <td>    1.404</td> <td> 0.160</td> <td>   -0.007</td> <td>    0.043</td>\n",
       "</tr>\n",
       "<tr>\n",
       "  <th>age_sqr</th>                    <td>   -0.0002</td> <td>    0.001</td> <td>   -0.338</td> <td> 0.735</td> <td>   -0.001</td> <td>    0.001</td>\n",
       "</tr>\n",
       "<tr>\n",
       "  <th>in_workforce</th>               <td>   -0.1818</td> <td>    0.352</td> <td>   -0.516</td> <td> 0.606</td> <td>   -0.872</td> <td>    0.509</td>\n",
       "</tr>\n",
       "<tr>\n",
       "  <th>completed tertiary or more</th> <td>    0.9055</td> <td>    0.640</td> <td>    1.414</td> <td> 0.157</td> <td>   -0.350</td> <td>    2.161</td>\n",
       "</tr>\n",
       "<tr>\n",
       "  <th>secondary</th>                  <td>    0.2435</td> <td>    0.501</td> <td>    0.486</td> <td> 0.627</td> <td>   -0.738</td> <td>    1.225</td>\n",
       "</tr>\n",
       "<tr>\n",
       "  <th>Poorest 20%</th>                <td>   -0.7590</td> <td>    0.838</td> <td>   -0.905</td> <td> 0.365</td> <td>   -2.402</td> <td>    0.884</td>\n",
       "</tr>\n",
       "<tr>\n",
       "  <th>Second 20%</th>                 <td>    0.2193</td> <td>    0.598</td> <td>    0.367</td> <td> 0.714</td> <td>   -0.953</td> <td>    1.392</td>\n",
       "</tr>\n",
       "<tr>\n",
       "  <th>Middle 20%</th>                 <td>    0.2950</td> <td>    0.592</td> <td>    0.498</td> <td> 0.618</td> <td>   -0.866</td> <td>    1.456</td>\n",
       "</tr>\n",
       "<tr>\n",
       "  <th>Richest 20%</th>                <td>    1.2925</td> <td>    0.475</td> <td>    2.724</td> <td> 0.006</td> <td>    0.362</td> <td>    2.223</td>\n",
       "</tr>\n",
       "</table>"
      ],
      "text/plain": [
       "<class 'statsmodels.iolib.summary.Summary'>\n",
       "\"\"\"\n",
       "                           Logit Regression Results                           \n",
       "==============================================================================\n",
       "Dep. Variable:          saved_old_age   No. Observations:                  989\n",
       "Model:                          Logit   Df Residuals:                      977\n",
       "Method:                           MLE   Df Model:                           11\n",
       "Date:                Mon, 20 Jul 2020   Pseudo R-squ.:                 0.09456\n",
       "Time:                        22:22:20   Log-Likelihood:                -173.88\n",
       "converged:                       True   LL-Null:                       -192.04\n",
       "Covariance Type:            nonrobust   LLR p-value:                 0.0001498\n",
       "==============================================================================================\n",
       "                                 coef    std err          z      P>|z|      [0.025      0.975]\n",
       "----------------------------------------------------------------------------------------------\n",
       "intercept                     -4.4187      0.858     -5.150      0.000      -6.100      -2.737\n",
       "mobile_money_account           0.5194      0.348      1.493      0.135      -0.163       1.201\n",
       "female                        -0.2929      0.314     -0.931      0.352      -0.909       0.323\n",
       "age                            0.0181      0.013      1.404      0.160      -0.007       0.043\n",
       "age_sqr                       -0.0002      0.001     -0.338      0.735      -0.001       0.001\n",
       "in_workforce                  -0.1818      0.352     -0.516      0.606      -0.872       0.509\n",
       "completed tertiary or more     0.9055      0.640      1.414      0.157      -0.350       2.161\n",
       "secondary                      0.2435      0.501      0.486      0.627      -0.738       1.225\n",
       "Poorest 20%                   -0.7590      0.838     -0.905      0.365      -2.402       0.884\n",
       "Second 20%                     0.2193      0.598      0.367      0.714      -0.953       1.392\n",
       "Middle 20%                     0.2950      0.592      0.498      0.618      -0.866       1.456\n",
       "Richest 20%                    1.2925      0.475      2.724      0.006       0.362       2.223\n",
       "==============================================================================================\n",
       "\"\"\""
      ]
     },
     "execution_count": 246,
     "metadata": {},
     "output_type": "execute_result"
    }
   ],
   "source": [
    "logit_model = sm.Logit(df['saved_old_age'],df[['intercept', 'mobile_money_account','female','age', 'age_sqr','in_workforce',\n",
    "                                       'completed tertiary or more','secondary', \n",
    "                                       'Poorest 20%','Second 20%','Middle 20%', 'Richest 20%']])\n",
    "results5=logit_model.fit()\n",
    "results5.summary()"
   ]
  },
  {
   "cell_type": "code",
   "execution_count": 247,
   "metadata": {},
   "outputs": [
    {
     "name": "stdout",
     "output_type": "stream",
     "text": [
      "intercept                     0.012050\n",
      "mobile_money_account          1.681080\n",
      "female                        0.746101\n",
      "age                           1.018294\n",
      "age_sqr                       0.999806\n",
      "in_workforce                  0.833762\n",
      "completed tertiary or more    2.473097\n",
      "secondary                     1.275671\n",
      "Poorest 20%                   0.468132\n",
      "Second 20%                    1.245171\n",
      "Middle 20%                    1.343156\n",
      "Richest 20%                   3.641924\n",
      "dtype: float64\n"
     ]
    }
   ],
   "source": [
    "print(np.exp(results5.params))"
   ]
  },
  {
   "cell_type": "code",
   "execution_count": 248,
   "metadata": {},
   "outputs": [
    {
     "name": "stdout",
     "output_type": "stream",
     "text": [
      "Optimization terminated successfully.\n",
      "         Current function value: 0.512694\n",
      "         Iterations 6\n"
     ]
    },
    {
     "data": {
      "text/html": [
       "<table class=\"simpletable\">\n",
       "<caption>Logit Regression Results</caption>\n",
       "<tr>\n",
       "  <th>Dep. Variable:</th>   <td>saved_farm_business</td> <th>  No. Observations:  </th>  <td>   989</td>  \n",
       "</tr>\n",
       "<tr>\n",
       "  <th>Model:</th>                  <td>Logit</td>        <th>  Df Residuals:      </th>  <td>   977</td>  \n",
       "</tr>\n",
       "<tr>\n",
       "  <th>Method:</th>                  <td>MLE</td>         <th>  Df Model:          </th>  <td>    11</td>  \n",
       "</tr>\n",
       "<tr>\n",
       "  <th>Date:</th>             <td>Mon, 20 Jul 2020</td>   <th>  Pseudo R-squ.:     </th>  <td>0.04611</td> \n",
       "</tr>\n",
       "<tr>\n",
       "  <th>Time:</th>                 <td>22:22:20</td>       <th>  Log-Likelihood:    </th> <td> -507.05</td> \n",
       "</tr>\n",
       "<tr>\n",
       "  <th>converged:</th>              <td>True</td>         <th>  LL-Null:           </th> <td> -531.56</td> \n",
       "</tr>\n",
       "<tr>\n",
       "  <th>Covariance Type:</th>      <td>nonrobust</td>      <th>  LLR p-value:       </th> <td>9.401e-07</td>\n",
       "</tr>\n",
       "</table>\n",
       "<table class=\"simpletable\">\n",
       "<tr>\n",
       "               <td></td>                 <th>coef</th>     <th>std err</th>      <th>z</th>      <th>P>|z|</th>  <th>[0.025</th>    <th>0.975]</th>  \n",
       "</tr>\n",
       "<tr>\n",
       "  <th>intercept</th>                  <td>   -2.3543</td> <td>    0.400</td> <td>   -5.881</td> <td> 0.000</td> <td>   -3.139</td> <td>   -1.570</td>\n",
       "</tr>\n",
       "<tr>\n",
       "  <th>mobile_money_account</th>       <td>    0.4670</td> <td>    0.167</td> <td>    2.802</td> <td> 0.005</td> <td>    0.140</td> <td>    0.794</td>\n",
       "</tr>\n",
       "<tr>\n",
       "  <th>female</th>                     <td>   -0.1107</td> <td>    0.162</td> <td>   -0.685</td> <td> 0.493</td> <td>   -0.428</td> <td>    0.206</td>\n",
       "</tr>\n",
       "<tr>\n",
       "  <th>age</th>                        <td>    0.0062</td> <td>    0.006</td> <td>    0.959</td> <td> 0.337</td> <td>   -0.006</td> <td>    0.019</td>\n",
       "</tr>\n",
       "<tr>\n",
       "  <th>age_sqr</th>                    <td>-8.644e-05</td> <td>    0.000</td> <td>   -0.306</td> <td> 0.760</td> <td>   -0.001</td> <td>    0.000</td>\n",
       "</tr>\n",
       "<tr>\n",
       "  <th>in_workforce</th>               <td>    0.8632</td> <td>    0.197</td> <td>    4.376</td> <td> 0.000</td> <td>    0.477</td> <td>    1.250</td>\n",
       "</tr>\n",
       "<tr>\n",
       "  <th>completed tertiary or more</th> <td>    0.8998</td> <td>    0.364</td> <td>    2.470</td> <td> 0.014</td> <td>    0.186</td> <td>    1.614</td>\n",
       "</tr>\n",
       "<tr>\n",
       "  <th>secondary</th>                  <td>    0.2038</td> <td>    0.212</td> <td>    0.959</td> <td> 0.337</td> <td>   -0.213</td> <td>    0.620</td>\n",
       "</tr>\n",
       "<tr>\n",
       "  <th>Poorest 20%</th>                <td>    0.0245</td> <td>    0.260</td> <td>    0.094</td> <td> 0.925</td> <td>   -0.485</td> <td>    0.534</td>\n",
       "</tr>\n",
       "<tr>\n",
       "  <th>Second 20%</th>                 <td>   -0.1631</td> <td>    0.254</td> <td>   -0.643</td> <td> 0.520</td> <td>   -0.660</td> <td>    0.334</td>\n",
       "</tr>\n",
       "<tr>\n",
       "  <th>Middle 20%</th>                 <td>   -0.0564</td> <td>    0.251</td> <td>   -0.224</td> <td> 0.822</td> <td>   -0.549</td> <td>    0.436</td>\n",
       "</tr>\n",
       "<tr>\n",
       "  <th>Richest 20%</th>                <td>   -0.2136</td> <td>    0.232</td> <td>   -0.921</td> <td> 0.357</td> <td>   -0.668</td> <td>    0.241</td>\n",
       "</tr>\n",
       "</table>"
      ],
      "text/plain": [
       "<class 'statsmodels.iolib.summary.Summary'>\n",
       "\"\"\"\n",
       "                            Logit Regression Results                           \n",
       "===============================================================================\n",
       "Dep. Variable:     saved_farm_business   No. Observations:                  989\n",
       "Model:                           Logit   Df Residuals:                      977\n",
       "Method:                            MLE   Df Model:                           11\n",
       "Date:                 Mon, 20 Jul 2020   Pseudo R-squ.:                 0.04611\n",
       "Time:                         22:22:20   Log-Likelihood:                -507.05\n",
       "converged:                        True   LL-Null:                       -531.56\n",
       "Covariance Type:             nonrobust   LLR p-value:                 9.401e-07\n",
       "==============================================================================================\n",
       "                                 coef    std err          z      P>|z|      [0.025      0.975]\n",
       "----------------------------------------------------------------------------------------------\n",
       "intercept                     -2.3543      0.400     -5.881      0.000      -3.139      -1.570\n",
       "mobile_money_account           0.4670      0.167      2.802      0.005       0.140       0.794\n",
       "female                        -0.1107      0.162     -0.685      0.493      -0.428       0.206\n",
       "age                            0.0062      0.006      0.959      0.337      -0.006       0.019\n",
       "age_sqr                    -8.644e-05      0.000     -0.306      0.760      -0.001       0.000\n",
       "in_workforce                   0.8632      0.197      4.376      0.000       0.477       1.250\n",
       "completed tertiary or more     0.8998      0.364      2.470      0.014       0.186       1.614\n",
       "secondary                      0.2038      0.212      0.959      0.337      -0.213       0.620\n",
       "Poorest 20%                    0.0245      0.260      0.094      0.925      -0.485       0.534\n",
       "Second 20%                    -0.1631      0.254     -0.643      0.520      -0.660       0.334\n",
       "Middle 20%                    -0.0564      0.251     -0.224      0.822      -0.549       0.436\n",
       "Richest 20%                   -0.2136      0.232     -0.921      0.357      -0.668       0.241\n",
       "==============================================================================================\n",
       "\"\"\""
      ]
     },
     "execution_count": 248,
     "metadata": {},
     "output_type": "execute_result"
    }
   ],
   "source": [
    "logit_model = sm.Logit(df['saved_farm_business'],df[['intercept', 'mobile_money_account','female','age', 'age_sqr',\n",
    "                                       'in_workforce','completed tertiary or more','secondary', \n",
    "                                       'Poorest 20%','Second 20%','Middle 20%', 'Richest 20%']])\n",
    "results6=logit_model.fit()\n",
    "results6.summary()"
   ]
  },
  {
   "cell_type": "code",
   "execution_count": 249,
   "metadata": {},
   "outputs": [
    {
     "name": "stdout",
     "output_type": "stream",
     "text": [
      "intercept                     0.094956\n",
      "mobile_money_account          1.595219\n",
      "female                        0.895196\n",
      "age                           1.006236\n",
      "age_sqr                       0.999914\n",
      "in_workforce                  2.370668\n",
      "completed tertiary or more    2.458996\n",
      "secondary                     1.226034\n",
      "Poorest 20%                   1.024777\n",
      "Second 20%                    0.849495\n",
      "Middle 20%                    0.945192\n",
      "Richest 20%                   0.807634\n",
      "dtype: float64\n"
     ]
    }
   ],
   "source": [
    "print(np.exp(results6.params))"
   ]
  },
  {
   "cell_type": "markdown",
   "metadata": {},
   "source": [
    "## Make regression outputs look more presentable"
   ]
  },
  {
   "cell_type": "code",
   "execution_count": 250,
   "metadata": {},
   "outputs": [],
   "source": [
    "#import library required for regression summary tables\n",
    "from statsmodels.iolib.summary2 import summary_col"
   ]
  },
  {
   "cell_type": "code",
   "execution_count": 251,
   "metadata": {},
   "outputs": [
    {
     "name": "stdout",
     "output_type": "stream",
     "text": [
      "\n",
      "==================================\n",
      "                            saved \n",
      "----------------------------------\n",
      "intercept                  -0.57* \n",
      "                           (0.32) \n",
      "mobile_money_account       0.74***\n",
      "                           (0.14) \n",
      "female                     0.19   \n",
      "                           (0.14) \n",
      "age                        -0.00  \n",
      "                           (0.01) \n",
      "age_sqr                    0.00   \n",
      "                           (0.00) \n",
      "in_workforce               0.49***\n",
      "                           (0.15) \n",
      "completed tertiary or more 0.97** \n",
      "                           (0.38) \n",
      "secondary                  0.22   \n",
      "                           (0.17) \n",
      "Poorest 20%                -0.35  \n",
      "                           (0.22) \n",
      "Second 20%                 -0.49**\n",
      "                           (0.21) \n",
      "Middle 20%                 -0.43**\n",
      "                           (0.21) \n",
      "Richest 20%                -0.04  \n",
      "                           (0.20) \n",
      "N                          989    \n",
      "==================================\n",
      "Standard errors in parentheses.\n",
      "* p<.1, ** p<.05, ***p<.01\n"
     ]
    }
   ],
   "source": [
    "#summary table for regression for saved variable with controls\n",
    "res1=summary_col([results4],stars=True,float_format='%0.2f',\n",
    "                  info_dict={'N':lambda x: \"{0:d}\".format(int(x.nobs))})\n",
    "print(res1)"
   ]
  },
  {
   "cell_type": "code",
   "execution_count": 252,
   "metadata": {},
   "outputs": [
    {
     "name": "stdout",
     "output_type": "stream",
     "text": [
      "\n",
      "========================================\n",
      "                           saved_old_age\n",
      "----------------------------------------\n",
      "intercept                  -4.42***     \n",
      "                           (0.86)       \n",
      "mobile_money_account       0.52         \n",
      "                           (0.35)       \n",
      "female                     -0.29        \n",
      "                           (0.31)       \n",
      "age                        0.02         \n",
      "                           (0.01)       \n",
      "age_sqr                    -0.00        \n",
      "                           (0.00)       \n",
      "in_workforce               -0.18        \n",
      "                           (0.35)       \n",
      "completed tertiary or more 0.91         \n",
      "                           (0.64)       \n",
      "secondary                  0.24         \n",
      "                           (0.50)       \n",
      "Poorest 20%                -0.76        \n",
      "                           (0.84)       \n",
      "Second 20%                 0.22         \n",
      "                           (0.60)       \n",
      "Middle 20%                 0.30         \n",
      "                           (0.59)       \n",
      "Richest 20%                1.29***      \n",
      "                           (0.47)       \n",
      "N                          989          \n",
      "========================================\n",
      "Standard errors in parentheses.\n",
      "* p<.1, ** p<.05, ***p<.01\n"
     ]
    }
   ],
   "source": [
    "res2=summary_col([results5],stars=True,float_format='%0.2f',\n",
    "                  info_dict={'N':lambda x: \"{0:d}\".format(int(x.nobs))})\n",
    "print(res2)"
   ]
  },
  {
   "cell_type": "code",
   "execution_count": 253,
   "metadata": {},
   "outputs": [
    {
     "name": "stdout",
     "output_type": "stream",
     "text": [
      "\n",
      "==============================================\n",
      "                           saved_farm_business\n",
      "----------------------------------------------\n",
      "intercept                  -2.35***           \n",
      "                           (0.40)             \n",
      "mobile_money_account       0.47***            \n",
      "                           (0.17)             \n",
      "female                     -0.11              \n",
      "                           (0.16)             \n",
      "age                        0.01               \n",
      "                           (0.01)             \n",
      "age_sqr                    -0.00              \n",
      "                           (0.00)             \n",
      "in_workforce               0.86***            \n",
      "                           (0.20)             \n",
      "completed tertiary or more 0.90**             \n",
      "                           (0.36)             \n",
      "secondary                  0.20               \n",
      "                           (0.21)             \n",
      "Poorest 20%                0.02               \n",
      "                           (0.26)             \n",
      "Second 20%                 -0.16              \n",
      "                           (0.25)             \n",
      "Middle 20%                 -0.06              \n",
      "                           (0.25)             \n",
      "Richest 20%                -0.21              \n",
      "                           (0.23)             \n",
      "N                          989                \n",
      "==============================================\n",
      "Standard errors in parentheses.\n",
      "* p<.1, ** p<.05, ***p<.01\n"
     ]
    }
   ],
   "source": [
    "res3=summary_col([results6],stars=True,float_format='%0.2f',\n",
    "                  info_dict={'N':lambda x: \"{0:d}\".format(int(x.nobs))})\n",
    "print(res3)"
   ]
  },
  {
   "cell_type": "code",
   "execution_count": 254,
   "metadata": {},
   "outputs": [
    {
     "name": "stdout",
     "output_type": "stream",
     "text": [
      "\n",
      "====================================================================\n",
      "                            saved  saved_old_age saved_farm_business\n",
      "--------------------------------------------------------------------\n",
      "intercept                  -0.57*  -4.42***      -2.35***           \n",
      "                           (0.32)  (0.86)        (0.40)             \n",
      "mobile_money_account       0.74*** 0.52          0.47***            \n",
      "                           (0.14)  (0.35)        (0.17)             \n",
      "female                     0.19    -0.29         -0.11              \n",
      "                           (0.14)  (0.31)        (0.16)             \n",
      "age                        -0.00   0.02          0.01               \n",
      "                           (0.01)  (0.01)        (0.01)             \n",
      "age_sqr                    0.00    -0.00         -0.00              \n",
      "                           (0.00)  (0.00)        (0.00)             \n",
      "in_workforce               0.49*** -0.18         0.86***            \n",
      "                           (0.15)  (0.35)        (0.20)             \n",
      "completed tertiary or more 0.97**  0.91          0.90**             \n",
      "                           (0.38)  (0.64)        (0.36)             \n",
      "secondary                  0.22    0.24          0.20               \n",
      "                           (0.17)  (0.50)        (0.21)             \n",
      "Poorest 20%                -0.35   -0.76         0.02               \n",
      "                           (0.22)  (0.84)        (0.26)             \n",
      "Second 20%                 -0.49** 0.22          -0.16              \n",
      "                           (0.21)  (0.60)        (0.25)             \n",
      "Middle 20%                 -0.43** 0.30          -0.06              \n",
      "                           (0.21)  (0.59)        (0.25)             \n",
      "Richest 20%                -0.04   1.29***       -0.21              \n",
      "                           (0.20)  (0.47)        (0.23)             \n",
      "N                          989     989           989                \n",
      "====================================================================\n",
      "Standard errors in parentheses.\n",
      "* p<.1, ** p<.05, ***p<.01\n"
     ]
    }
   ],
   "source": [
    "#regression summary table of all three regression outputs\n",
    "res=summary_col([results4,results5,results6],stars=True,float_format='%0.2f',\n",
    "                  info_dict={'N':lambda x: \"{0:d}\".format(int(x.nobs))})\n",
    "print(res)"
   ]
  }
 ],
 "metadata": {
  "kernelspec": {
   "display_name": "Python 3",
   "language": "python",
   "name": "python3"
  },
  "language_info": {
   "codemirror_mode": {
    "name": "ipython",
    "version": 3
   },
   "file_extension": ".py",
   "mimetype": "text/x-python",
   "name": "python",
   "nbconvert_exporter": "python",
   "pygments_lexer": "ipython3",
   "version": "3.7.6"
  }
 },
 "nbformat": 4,
 "nbformat_minor": 4
}
